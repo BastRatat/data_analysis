{
 "cells": [
  {
   "cell_type": "markdown",
   "metadata": {},
   "source": [
    "# DATA CLEANING WITH PANDAS "
   ]
  },
  {
   "cell_type": "code",
   "execution_count": 65,
   "metadata": {},
   "outputs": [],
   "source": [
    "import pandas as pd\n",
    "import glob\n",
    "import numpy as np\n",
    "\n",
    "def dash_line():\n",
    "    print(\"\\n------------\\n\")"
   ]
  },
  {
   "cell_type": "markdown",
   "metadata": {},
   "source": [
    "## DEALING WITH MULTIPLE FILES"
   ]
  },
  {
   "cell_type": "raw",
   "metadata": {},
   "source": [
    "We can combine the use of glob, a Python library for working with files, with pandas to organize this data better. glob can open multiple files by using regex matching to get the filenames:"
   ]
  },
  {
   "cell_type": "code",
   "execution_count": 13,
   "metadata": {},
   "outputs": [
    {
     "name": "stdout",
     "output_type": "stream",
     "text": [
      "The DataFrame has 1000 entries.\n",
      "\n",
      "------------\n",
      "\n",
      "   id          full_name gender_age fractions probability       grade\n",
      "0   0  Roseanna Gwinnell        F15       89%         65%   9th grade\n",
      "1   1  Ellissa Childrens        F14       73%         84%  12th grade\n",
      "2   2      Reeta Bramich        F18       74%         92%  12th grade\n",
      "3   3       Izabel Rymer        F15       66%         81%  11th grade\n",
      "4   4      Rosalie Donne        F18       72%         86%  11th grade\n"
     ]
    }
   ],
   "source": [
    "students_files = glob.glob(\"exams*.csv\")\n",
    "\n",
    "df_list = []\n",
    "for file in students_files:\n",
    "    df_list.append(pd.read_csv(file))\n",
    "    \n",
    "students = pd.concat(df_list)\n",
    "\n",
    "print(\"The DataFrame has {} entries.\".format(len(students)))\n",
    "dash_line()\n",
    "print(students.head())"
   ]
  },
  {
   "cell_type": "markdown",
   "metadata": {},
   "source": [
    "## DEALING WITH DUPLICATES"
   ]
  },
  {
   "cell_type": "raw",
   "metadata": {},
   "source": [
    "To check for duplicates, we can use the pandas function .duplicated(), which will return a Series telling us which rows are duplicate rows. This method returns a boolean."
   ]
  },
  {
   "cell_type": "code",
   "execution_count": 39,
   "metadata": {},
   "outputs": [
    {
     "name": "stdout",
     "output_type": "stream",
     "text": [
      "95    True\n",
      "96    True\n",
      "97    True\n",
      "98    True\n",
      "99    True\n",
      "dtype: bool\n",
      "\n",
      "------------\n",
      "\n",
      " value counts :\n",
      " False    700\n",
      "True     300\n",
      "dtype: int64\n"
     ]
    }
   ],
   "source": [
    "print(students.duplicated().tail()) # True will evaluate a duplicate\n",
    "dash_line()\n",
    "print(\"Value counts :\\n {}\".format(students.duplicated().value_counts()))"
   ]
  },
  {
   "cell_type": "raw",
   "metadata": {},
   "source": [
    "However, we can use the pandas .drop_duplicates() function to remove all rows that are duplicates of another row."
   ]
  },
  {
   "cell_type": "code",
   "execution_count": 41,
   "metadata": {},
   "outputs": [
    {
     "name": "stdout",
     "output_type": "stream",
     "text": [
      "95    False\n",
      "96    False\n",
      "97    False\n",
      "98    False\n",
      "99    False\n",
      "dtype: bool\n"
     ]
    }
   ],
   "source": [
    "print(students.drop_duplicates().duplicated().tail()) # will return the students DataFrame free of duplicates."
   ]
  },
  {
   "cell_type": "markdown",
   "metadata": {},
   "source": [
    "## SPLITTING BY INDEX"
   ]
  },
  {
   "cell_type": "raw",
   "metadata": {},
   "source": [
    "Let’s say we have a column “birthday” with data formatted in MMDDYYYY format. In other words, “11011993” represents a birthday of November 1, 1993. We want to split this data into day, month, and year so that we can use these columns as separate features."
   ]
  },
  {
   "cell_type": "code",
   "execution_count": null,
   "metadata": {},
   "outputs": [],
   "source": [
    "# Create the 'month' column\n",
    "df['month'] = df.birthday.str[0:2]\n",
    "\n",
    "# Create the 'day' column\n",
    "df['day'] = df.birthday.str[2:4]\n",
    "\n",
    "# Create the 'year' column\n",
    "df['year'] = df.birthday.str[4:]"
   ]
  },
  {
   "cell_type": "code",
   "execution_count": 50,
   "metadata": {},
   "outputs": [
    {
     "name": "stdout",
     "output_type": "stream",
     "text": [
      "Index(['id', 'full_name', 'gender_age', 'fractions', 'probability', 'grade',\n",
      "       'age'],\n",
      "      dtype='object')\n",
      "\n",
      "------------\n",
      "\n",
      "0    F15\n",
      "1    F14\n",
      "2    F18\n",
      "3    F15\n",
      "4    F18\n",
      "Name: gender_age, dtype: object\n",
      "\n",
      "------------\n",
      "\n",
      "           full_name       grade age\n",
      "0  Roseanna Gwinnell   9th grade  15\n",
      "1  Ellissa Childrens  12th grade  14\n",
      "2      Reeta Bramich  12th grade  18\n",
      "3       Izabel Rymer  11th grade  15\n",
      "4      Rosalie Donne  11th grade  18\n"
     ]
    }
   ],
   "source": [
    "print(students.columns)\n",
    "dash_line()\n",
    "\n",
    "print(students.gender_age.head())\n",
    "dash_line()\n",
    "\n",
    "students[\"age\"] = students.gender_age.str[1:]\n",
    "df_students = students[[\"full_name\", \"grade\", \"age\"]]\n",
    "print(df_students.head())"
   ]
  },
  {
   "cell_type": "markdown",
   "metadata": {},
   "source": [
    "## SPLITTING BY CHARACTER"
   ]
  },
  {
   "cell_type": "code",
   "execution_count": 54,
   "metadata": {},
   "outputs": [
    {
     "name": "stdout",
     "output_type": "stream",
     "text": [
      "  first_name  last_name age       grade\n",
      "0   Roseanna   Gwinnell  15   9th grade\n",
      "1    Ellissa  Childrens  14  12th grade\n",
      "2      Reeta    Bramich  18  12th grade\n",
      "3     Izabel      Rymer  15  11th grade\n",
      "4    Rosalie      Donne  18  11th grade\n"
     ]
    }
   ],
   "source": [
    "name_split = students.full_name.str.split(\" \")\n",
    "students[\"first_name\"] = name_split.str.get(0)\n",
    "students[\"last_name\"] = name_split.str.get(1)\n",
    "\n",
    "df2_students = students[['first_name', 'last_name', 'age', 'grade']]\n",
    "print(df2_students.head())"
   ]
  },
  {
   "cell_type": "markdown",
   "metadata": {},
   "source": [
    "## LOOKING AT TYPES"
   ]
  },
  {
   "cell_type": "raw",
   "metadata": {},
   "source": [
    "Each column of a DataFrame can hold items of the same data type or dtype. The dtypes that pandas uses are: float, int, bool, datetime, timedelta, category and object.\n",
    "\n",
    "If a numerical category like \"num_users\" is stored as a Series of objects instead of ints, for example, it makes it more difficult to do something like make a line graph of users over time."
   ]
  },
  {
   "cell_type": "code",
   "execution_count": 58,
   "metadata": {},
   "outputs": [
    {
     "name": "stdout",
     "output_type": "stream",
     "text": [
      "the data type of the age column is 'object'.\n"
     ]
    }
   ],
   "source": [
    "print(\"the data type of the age column is '{}'.\".format(students[\"age\"].dtypes))"
   ]
  },
  {
   "cell_type": "markdown",
   "metadata": {},
   "source": [
    "## STRING PARSING"
   ]
  },
  {
   "cell_type": "code",
   "execution_count": 62,
   "metadata": {},
   "outputs": [
    {
     "name": "stdout",
     "output_type": "stream",
     "text": [
      "0    65.0\n",
      "1    84.0\n",
      "2    92.0\n",
      "3    81.0\n",
      "4    86.0\n",
      "Name: probability, dtype: float64\n"
     ]
    }
   ],
   "source": [
    "students.probability = students['probability'].replace('[\\%]','', regex=True)\n",
    "students.probability = pd.to_numeric(students.probability)\n",
    "\n",
    "print(students.probability.head())"
   ]
  },
  {
   "cell_type": "code",
   "execution_count": null,
   "metadata": {},
   "outputs": [],
   "source": [
    "print(students.grade.head())\n",
    "dash_line()\n",
    "students.grade = students.grade.str.split('(\\d+)', expand=True)[1]\n",
    "\n",
    "print(students.dtypes) #int64\n",
    "dash_line()\n",
    "students.grade = pd.to_numeric(students.grade)\n",
    "avg_grade = students.grade.mean()\n",
    "\n",
    "print(avg_grade) #10,62"
   ]
  },
  {
   "cell_type": "markdown",
   "metadata": {},
   "source": [
    "## MISSING VALUES"
   ]
  },
  {
   "cell_type": "raw",
   "metadata": {},
   "source": [
    "We can use .dropna() to drop all of the rows with a missing value :"
   ]
  },
  {
   "cell_type": "code",
   "execution_count": null,
   "metadata": {},
   "outputs": [],
   "source": [
    "df = df.dropna()"
   ]
  },
  {
   "cell_type": "raw",
   "metadata": {},
   "source": [
    "If we wanted to remove every row with a NaN value in the num_guests column only, we could specify a subset:"
   ]
  },
  {
   "cell_type": "code",
   "execution_count": null,
   "metadata": {},
   "outputs": [],
   "source": [
    "df = df.dropna(subset=['subset_name'])"
   ]
  },
  {
   "cell_type": "raw",
   "metadata": {},
   "source": [
    "Or we can fill the missing values with the mean of the column, or with some other aggregate value with .fillna()"
   ]
  },
  {
   "cell_type": "code",
   "execution_count": null,
   "metadata": {},
   "outputs": [],
   "source": [
    "df = df.fillna(0) #fill NaN values with 0"
   ]
  }
 ],
 "metadata": {
  "kernelspec": {
   "display_name": "Python 3",
   "language": "python",
   "name": "python3"
  },
  "language_info": {
   "codemirror_mode": {
    "name": "ipython",
    "version": 3
   },
   "file_extension": ".py",
   "mimetype": "text/x-python",
   "name": "python",
   "nbconvert_exporter": "python",
   "pygments_lexer": "ipython3",
   "version": "3.7.3"
  }
 },
 "nbformat": 4,
 "nbformat_minor": 2
}
