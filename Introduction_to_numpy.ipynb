{
 "cells": [
  {
   "cell_type": "markdown",
   "metadata": {},
   "source": [
    "# INTRODUCTION TO NUMPY"
   ]
  },
  {
   "cell_type": "raw",
   "metadata": {},
   "source": [
    "To work with our datasets, we’ll be using a powerful Python module known as NumPy, which stands for Numerical Python.\n",
    "\n",
    "NumPy has many uses including:\n",
    "\n",
    "    Efficiently working with many numbers at once\n",
    "    Generating random numbers\n",
    "    Performing many different numerical functions (i.e., calculating sin, cos, tan, mean, median, etc.)\n"
   ]
  },
  {
   "cell_type": "code",
   "execution_count": 1,
   "metadata": {},
   "outputs": [],
   "source": [
    "import numpy as np"
   ]
  },
  {
   "cell_type": "markdown",
   "metadata": {},
   "source": [
    "# ARRAYS"
   ]
  },
  {
   "cell_type": "raw",
   "metadata": {},
   "source": [
    "NumPy includes a powerful data structure known as an array. A NumPy array is a special type of list. It’s a data structure that organizes multiple items. Each item can be of any type (strings, numbers, or even other arrays).\n",
    "\n",
    "Arrays are most powerful when they are used to store numbers. This is because arrays give us special ways of performing mathematical operations that are both simpler to write and more efficient computationally. \n",
    "\n",
    "Imagine you’re a teacher and you need to keep track of your student’s test scores. On the first test, the students received the following scores:\n",
    "\n",
    "92, 94, 88, 91, 87"
   ]
  },
  {
   "cell_type": "code",
   "execution_count": 11,
   "metadata": {},
   "outputs": [
    {
     "name": "stdout",
     "output_type": "stream",
     "text": [
      "[92 94 88 94 87]\n",
      "Object type : <class 'numpy.ndarray'>\n"
     ]
    }
   ],
   "source": [
    "test_scores = np.array([92, 94, 88, 94, 87])\n",
    "print(test_scores)\n",
    "print(\"Object type : {}\".format(str(type(test_scores))))"
   ]
  },
  {
   "cell_type": "raw",
   "metadata": {},
   "source": [
    "We can pass a list as well to create an array : "
   ]
  },
  {
   "cell_type": "code",
   "execution_count": 12,
   "metadata": {},
   "outputs": [
    {
     "name": "stdout",
     "output_type": "stream",
     "text": [
      "[92 94 88 94 87]\n"
     ]
    }
   ],
   "source": [
    "scores = [92, 94, 88, 94, 87]\n",
    "scores_array = np.array(scores)\n",
    "print(scores_array)"
   ]
  },
  {
   "cell_type": "markdown",
   "metadata": {},
   "source": [
    "# CREATING AN ARRAY FROM AN CSV FILE"
   ]
  },
  {
   "cell_type": "raw",
   "metadata": {},
   "source": [
    "We’re able to transform CSV (comma-separated values) files into arrays using the np.genfromtxt() function:"
   ]
  },
  {
   "cell_type": "code",
   "execution_count": 16,
   "metadata": {},
   "outputs": [
    {
     "name": "stdout",
     "output_type": "stream",
     "text": [
      "[[nan nan nan]\n",
      " [nan nan 75.]\n",
      " [nan nan 82.]\n",
      " [nan nan 99.]\n",
      " [nan nan 90.]\n",
      " [nan nan 72.]\n",
      " [nan nan 66.]\n",
      " [nan nan 88.]\n",
      " [nan nan 82.]\n",
      " [nan nan 91.]\n",
      " [nan nan 85.]]\n"
     ]
    }
   ],
   "source": [
    "gradebooks_array = np.genfromtxt(\"gradebook.csv\", delimiter=',')\n",
    "print(gradebooks_array)"
   ]
  },
  {
   "cell_type": "markdown",
   "metadata": {},
   "source": [
    "# OPERATIONS WITH ARRAYS"
   ]
  },
  {
   "cell_type": "raw",
   "metadata": {},
   "source": [
    "An element-wise operation allows you to quickly perform an operation, such as addition, on each element in an array."
   ]
  },
  {
   "cell_type": "code",
   "execution_count": 17,
   "metadata": {},
   "outputs": [
    {
     "name": "stdout",
     "output_type": "stream",
     "text": [
      "[8464 8836 7744 8281 7569]\n",
      "[39 50 43 46 45]\n",
      "[89 87 74 92 94]\n"
     ]
    }
   ],
   "source": [
    "test_1 = np.array([92, 94, 88, 91, 87])\n",
    "test_2 = np.array([79, 100, 86, 93, 91])\n",
    "test_3 = np.array([87, 85, 72, 90, 92])\n",
    "\n",
    "test_1_fixed = test_1 ** 2\n",
    "test_2_fixed = test_2 // 2\n",
    "test_3_fixed = test_3 + 2\n",
    "\n",
    "print(test_1_fixed)\n",
    "print(test_2_fixed)\n",
    "print(test_3_fixed)"
   ]
  },
  {
   "cell_type": "raw",
   "metadata": {},
   "source": [
    "Arrays can also be added to or subtracted from each other in NumPy, assuming the arrays have the same number of elements.\n",
    "\n",
    "When adding or subtracting arrays in NumPy, each element will be added/subtracted to its matching element."
   ]
  },
  {
   "cell_type": "code",
   "execution_count": 18,
   "metadata": {},
   "outputs": [
    {
     "name": "stdout",
     "output_type": "stream",
     "text": [
      "total grade: [260 281 248 276 272]\n",
      "final grade: [86.66666667 93.66666667 82.66666667 92.         90.66666667]\n"
     ]
    }
   ],
   "source": [
    "test_1 = np.array([92, 94, 88, 91, 87])\n",
    "test_2 = np.array([79, 100, 86, 93, 91])\n",
    "test_3 = np.array([87, 85, 72, 90, 92])\n",
    "test_3_fixed = test_3 + 2\n",
    "\n",
    "total_grade = test_1 + test_2 + test_3_fixed \n",
    "print(\"total grade: {}\".format(total_grade))\n",
    "\n",
    "final_grade = total_grade / 3\n",
    "print(\"final grade: {}\".format(final_grade))"
   ]
  },
  {
   "cell_type": "markdown",
   "metadata": {},
   "source": [
    "# TWO-DIMENSIONAL ARRAYS"
   ]
  },
  {
   "cell_type": "raw",
   "metadata": {},
   "source": [
    "In Python, we can create lists that are made up of other lists. Similarly, in NumPy we can create an array of arrays. If the arrays that make up our bigger array are all the same size, then it has a special name: a two-dimensional array. "
   ]
  },
  {
   "cell_type": "code",
   "execution_count": 19,
   "metadata": {},
   "outputs": [],
   "source": [
    "test_1 = np.array([92, 94, 88, 91, 87])\n",
    "test_2 = np.array([79, 100, 86, 93, 91])\n",
    "test_3 = np.array([87, 85, 72, 90, 92])"
   ]
  },
  {
   "cell_type": "raw",
   "metadata": {},
   "source": [
    "Those three arrays can be compute in a two dimensional array:"
   ]
  },
  {
   "cell_type": "code",
   "execution_count": 21,
   "metadata": {},
   "outputs": [
    {
     "name": "stdout",
     "output_type": "stream",
     "text": [
      "[[ 92  94  88  91  87]\n",
      " [ 79 100  86  93  91]\n",
      " [ 87  85  72  90  92]]\n"
     ]
    }
   ],
   "source": [
    "tests = np.array([[92, 94, 88, 91, 87], \n",
    "                 [79, 100, 86, 93, 91], \n",
    "                 [87, 85, 72, 90, 92]])\n",
    "\n",
    "print(tests)"
   ]
  },
  {
   "cell_type": "markdown",
   "metadata": {},
   "source": [
    "# SELECTING ELEMENT FOR A 1-D ARRAY"
   ]
  },
  {
   "cell_type": "raw",
   "metadata": {},
   "source": [
    "NumPy allows us to select elements from an array using their indices. If we wanted to select multiple elements in the array, we can define a range. We can also use negative indices to select multiple elements."
   ]
  },
  {
   "cell_type": "code",
   "execution_count": 22,
   "metadata": {},
   "outputs": [
    {
     "name": "stdout",
     "output_type": "stream",
     "text": [
      "5\n",
      "[5 2 7]\n",
      "[5 2 7 0]\n",
      "[5 2]\n"
     ]
    }
   ],
   "source": [
    "a = np.array([5, 2, 7, 0, 11])\n",
    "print(a[0])\n",
    "print(a[0:3])\n",
    "print(a[:4])\n",
    "print(a[:-3])"
   ]
  },
  {
   "cell_type": "markdown",
   "metadata": {},
   "source": [
    "# SELECTION ELEMENT FOR A 2-D ARRAY"
   ]
  },
  {
   "cell_type": "raw",
   "metadata": {},
   "source": [
    "Selecting elements from a 2-d array is very similar to selecting them from a 1-d array, we just have two indices to select from. The syntax for selecting from a 2-d array is a[row,column] where a is the array."
   ]
  },
  {
   "cell_type": "code",
   "execution_count": 23,
   "metadata": {},
   "outputs": [
    {
     "name": "stdout",
     "output_type": "stream",
     "text": [
      "16\n",
      "[32 12  2]\n",
      "[12 10  5 23  1]\n"
     ]
    }
   ],
   "source": [
    "b = np.array([[32, 15, 6, 9, 14], \n",
    "              [12, 10, 5, 23, 1],\n",
    "              [2, 16, 13, 40, 37]])\n",
    "\n",
    "print(b[2,1]) #16\n",
    "print(b[:,0]) # [32, 12, 2]\n",
    "print(b[1,:]) #[12, 10,  5, 23,  1]"
   ]
  },
  {
   "cell_type": "markdown",
   "metadata": {},
   "source": [
    "# LOGICAL OPERATIONS WITH ARRAYS"
   ]
  },
  {
   "cell_type": "raw",
   "metadata": {},
   "source": [
    "Another useful thing that arrays can do is perform element-wise logical operations. \n",
    "\n",
    "For instance, suppose we want to know how many elements in an array are greater than 5. We can easily write some code that checks to see whether this statement evaluates to True for each item in the array, without having to use a for loop."
   ]
  },
  {
   "cell_type": "code",
   "execution_count": 24,
   "metadata": {},
   "outputs": [
    {
     "name": "stdout",
     "output_type": "stream",
     "text": [
      "[ True False False False False False  True  True  True  True]\n"
     ]
    }
   ],
   "source": [
    "a = np.array([10, 2, 2, 4, 5, 3, 9, 8, 9, 7])\n",
    "print(a>5)"
   ]
  },
  {
   "cell_type": "raw",
   "metadata": {},
   "source": [
    "To select all elements from the previous array that are greater than 5, we’d write the following:"
   ]
  },
  {
   "cell_type": "code",
   "execution_count": 25,
   "metadata": {},
   "outputs": [
    {
     "name": "stdout",
     "output_type": "stream",
     "text": [
      "[10  9  8  9  7]\n"
     ]
    }
   ],
   "source": [
    "print(a[a>5])"
   ]
  },
  {
   "cell_type": "raw",
   "metadata": {},
   "source": [
    "We can also combine logical statements to further specify our criteria. To do so, we place each statement in parentheses and use boolean operators like & (and) and | (or). \n",
    "\n",
    "We can use combined statements to find the elements that are greater than five or less than two:"
   ]
  },
  {
   "cell_type": "code",
   "execution_count": 27,
   "metadata": {},
   "outputs": [
    {
     "name": "stdout",
     "output_type": "stream",
     "text": [
      "[10  9  8  9  7]\n"
     ]
    }
   ],
   "source": [
    "print(a[(a>5)|(a<2)])"
   ]
  }
 ],
 "metadata": {
  "kernelspec": {
   "display_name": "Python 3",
   "language": "python",
   "name": "python3"
  },
  "language_info": {
   "codemirror_mode": {
    "name": "ipython",
    "version": 3
   },
   "file_extension": ".py",
   "mimetype": "text/x-python",
   "name": "python",
   "nbconvert_exporter": "python",
   "pygments_lexer": "ipython3",
   "version": "3.7.3"
  }
 },
 "nbformat": 4,
 "nbformat_minor": 2
}
