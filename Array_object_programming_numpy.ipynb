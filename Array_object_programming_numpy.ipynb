{
 "cells": [
  {
   "cell_type": "markdown",
   "metadata": {},
   "source": [
    "# ARRAY OBJECT PROGRAMMING IN NUMPY"
   ]
  },
  {
   "cell_type": "raw",
   "metadata": {},
   "source": [
    "Every array has a shape, a tuple indicating the size of each dimension, and a dtype, an object describing the data type of the array."
   ]
  },
  {
   "cell_type": "code",
   "execution_count": 54,
   "metadata": {},
   "outputs": [
    {
     "name": "stdout",
     "output_type": "stream",
     "text": [
      "The array generated is [[-0.00514941  0.13624718 -0.44639368]\n",
      " [ 2.23466785  0.3257712   1.18056055]]\n",
      "The shape of data is (2, 3)\n",
      "The dimension of the array is 2\n",
      "The data type of the array : float64\n"
     ]
    }
   ],
   "source": [
    "import numpy as np\n",
    "\n",
    "data = np.random.randn(2,3) #generate a 2 by 3 array\n",
    "print(\"The array generated is {}\".format(data))\n",
    "print(\"The shape of data is {}\".format(data.shape))\n",
    "print(\"The dimension of the array is {}\".format(data.ndim))\n",
    "print(\"The data type of the array : {}\".format(data.dtype))"
   ]
  },
  {
   "cell_type": "raw",
   "metadata": {},
   "source": [
    "zeros and ones create arrays of 0s and 1s respectively, with a given length or shape :"
   ]
  },
  {
   "cell_type": "code",
   "execution_count": 55,
   "metadata": {},
   "outputs": [
    {
     "name": "stdout",
     "output_type": "stream",
     "text": [
      "zeros dim : 1\n",
      "zeros shape : (10,)\n",
      "[0. 0. 0. 0. 0. 0. 0. 0. 0. 0.]\n",
      "-------\n",
      "ones dim : 2\n",
      "ones shape : (2, 3)\n",
      "[[1. 1. 1.]\n",
      " [1. 1. 1.]]\n"
     ]
    }
   ],
   "source": [
    "zeros = np.zeros(10)\n",
    "print(\"zeros dim : {}\".format(zeros.ndim))\n",
    "print(\"zeros shape : {}\".format(zeros.shape))\n",
    "print(zeros)\n",
    "\n",
    "print(\"-------\")\n",
    "\n",
    "ones = np.ones((2,3)) # pass a tuple\n",
    "print(\"ones dim : {}\".format(ones.ndim))\n",
    "print(\"ones shape : {}\".format(ones.shape))\n",
    "print(ones)"
   ]
  },
  {
   "cell_type": "raw",
   "metadata": {},
   "source": [
    "arange is an array-valued version of the build-in Python range function :"
   ]
  },
  {
   "cell_type": "code",
   "execution_count": 37,
   "metadata": {},
   "outputs": [
    {
     "name": "stdout",
     "output_type": "stream",
     "text": [
      "[0 1 2 3 4 5 6 7 8 9]\n"
     ]
    }
   ],
   "source": [
    "from_zero_to_nine = np.arange(10)\n",
    "print(from_zero_to_nine)"
   ]
  },
  {
   "cell_type": "raw",
   "metadata": {},
   "source": [
    "eye allows to create a square N*N identity matrix (1s on the diagonal, 0s elsewhere)."
   ]
  },
  {
   "cell_type": "code",
   "execution_count": 39,
   "metadata": {},
   "outputs": [
    {
     "name": "stdout",
     "output_type": "stream",
     "text": [
      "[[1 0 0 0]\n",
      " [0 1 0 0]\n",
      " [0 0 1 0]\n",
      " [0 0 0 1]]\n"
     ]
    }
   ],
   "source": [
    "four_times_four = np.eye(4, dtype=int)\n",
    "print(four_times_four)"
   ]
  },
  {
   "cell_type": "raw",
   "metadata": {},
   "source": [
    "You can explicitly convert or cast an array from one dtype to another using astype method :"
   ]
  },
  {
   "cell_type": "code",
   "execution_count": 44,
   "metadata": {},
   "outputs": [
    {
     "name": "stdout",
     "output_type": "stream",
     "text": [
      "arr data type: int32.\n",
      "------\n",
      "data type after the cast : float64\n"
     ]
    }
   ],
   "source": [
    "arr = np.array([1, 2, 3, 4, 5])\n",
    "print(\"arr data type: {}.\".format(arr.dtype))\n",
    "print(\"------\")\n",
    "float_arr = arr.astype(np.float64)\n",
    "print(\"data type after the cast : {}\".format(float_arr.dtype))"
   ]
  },
  {
   "cell_type": "markdown",
   "metadata": {},
   "source": [
    "### ARITHMETIC WITH NUMPY ARRAYS"
   ]
  },
  {
   "cell_type": "code",
   "execution_count": 53,
   "metadata": {},
   "outputs": [
    {
     "name": "stdout",
     "output_type": "stream",
     "text": [
      "array is : \n",
      "[[1. 2. 3.]\n",
      " [4. 5. 6.]]\n",
      "----------\n",
      "the array squared is : \n",
      "[[ 1.  4.  9.]\n",
      " [16. 25. 36.]]\n",
      "----------\n",
      "the array minus the array is : \n",
      "[[0. 0. 0.]\n",
      " [0. 0. 0.]]\n",
      "----------\n",
      "The inverse of arr is : \n",
      "[[1.         0.5        0.33333333]\n",
      " [0.25       0.2        0.16666667]]\n",
      "----------\n",
      "The square root of arr is: \n",
      "[[1.         1.41421356 1.73205081]\n",
      " [2.         2.23606798 2.44948974]]\n"
     ]
    }
   ],
   "source": [
    "def delimiter():\n",
    "    print(\"----------\")\n",
    "\n",
    "arr = np.array([\n",
    "    [1., 2., 3.],\n",
    "    [4., 5., 6.]\n",
    "])\n",
    "\n",
    "print(\"array is : \\n{}\".format(arr))\n",
    "delimiter()\n",
    "print(\"the array squared is : \\n{}\".format(arr**2))\n",
    "delimiter()\n",
    "print(\"the array minus the array is : \\n{}\".format(arr-arr))\n",
    "delimiter()\n",
    "print(\"The inverse of arr is : \\n{}\".format(1/arr))\n",
    "delimiter()\n",
    "print(\"The square root of arr is: \\n{}\".format(arr ** 0.5))\n"
   ]
  },
  {
   "cell_type": "raw",
   "metadata": {},
   "source": [
    "comparison between arrays of the same size yield boolean arrays:"
   ]
  },
  {
   "cell_type": "code",
   "execution_count": 58,
   "metadata": {},
   "outputs": [
    {
     "name": "stdout",
     "output_type": "stream",
     "text": [
      "[[False  True False]\n",
      " [ True False  True]]\n",
      "----------\n",
      "The data type of the comparison array is: bool\n"
     ]
    }
   ],
   "source": [
    "arr = np.array([\n",
    "    [1., 2., 3.],\n",
    "    [4., 5., 6.]\n",
    "])\n",
    "\n",
    "arr2 = np.array([\n",
    "    [0., 4., 1.],\n",
    "    [7., 2., 12.]\n",
    "])\n",
    "\n",
    "comparison = arr2 > arr\n",
    "print(comparison)\n",
    "delimiter()\n",
    "print(\"The data type of the comparison array is: {}\".format(comparison.dtype))"
   ]
  },
  {
   "cell_type": "code",
   "execution_count": null,
   "metadata": {},
   "outputs": [],
   "source": []
  }
 ],
 "metadata": {
  "kernelspec": {
   "display_name": "Python 3",
   "language": "python",
   "name": "python3"
  },
  "language_info": {
   "codemirror_mode": {
    "name": "ipython",
    "version": 3
   },
   "file_extension": ".py",
   "mimetype": "text/x-python",
   "name": "python",
   "nbconvert_exporter": "python",
   "pygments_lexer": "ipython3",
   "version": "3.7.3"
  }
 },
 "nbformat": 4,
 "nbformat_minor": 2
}
