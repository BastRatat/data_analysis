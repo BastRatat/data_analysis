{
 "cells": [
  {
   "cell_type": "code",
   "execution_count": 21,
   "metadata": {},
   "outputs": [],
   "source": [
    "from matplotlib import pyplot as plt\n",
    "import pandas as pd"
   ]
  },
  {
   "cell_type": "markdown",
   "metadata": {},
   "source": [
    "# BAR CHARTS"
   ]
  },
  {
   "cell_type": "raw",
   "metadata": {},
   "source": [
    "The plt.bar function allows you to create simple bar charts to compare multiple categories of data.\n",
    "\n",
    "You call plt.bar with two arguments:\n",
    "\n",
    "    the x-values — a list of x-positions for each bar\n",
    "    the y-values — a list of heights for each bar\n",
    "\n",
    "In most cases, we will want our x-values to be a list that looks like [0, 1, 2, 3 ...] and has the same number of elements as our y-values list.\n",
    "\n",
    "The range function creates a list of consecutive integers (i.e., [0, 1, 2, 3, ...]). It needs an argument to tell it how many numbers should be in the list. For instance, range(5) would make a list with 5 numbers."
   ]
  },
  {
   "cell_type": "code",
   "execution_count": 2,
   "metadata": {},
   "outputs": [
    {
     "data": {
      "image/png": "[encoded data removed]",
      "text/plain": [
       "<Figure size 432x288 with 1 Axes>"
      ]
     },
     "metadata": {
      "needs_background": "light"
     },
     "output_type": "display_data"
    }
   ],
   "source": [
    "drinks = [\"cappuccino\", \"latte\", \"chai\", \"americano\", \"mocha\", \"espresso\"]\n",
    "sales =  [91, 76, 56, 66, 52, 27]\n",
    "\n",
    "plt.bar(range(len(drinks)), sales)\n",
    "plt.show()"
   ]
  },
  {
   "cell_type": "raw",
   "metadata": {},
   "source": [
    "When we create a bar chart, we want each bar to be meaningful and correspond to a category of data."
   ]
  },
  {
   "cell_type": "code",
   "execution_count": 4,
   "metadata": {},
   "outputs": [
    {
     "name": "stderr",
     "output_type": "stream",
     "text": [
      "C:\\Users\\utilisateur\\Anaconda3\\lib\\site-packages\\ipykernel_launcher.py:6: MatplotlibDeprecationWarning: Adding an axes using the same arguments as a previous axes currently reuses the earlier instance.  In a future version, a new instance will always be created and returned.  Meanwhile, this warning can be suppressed, and the future behavior ensured, by passing a unique label to each axes instance.\n",
      "  \n"
     ]
    },
    {
     "data": {
      "image/png": "[encoded data removed]",
      "text/plain": [
       "<Figure size 432x288 with 1 Axes>"
      ]
     },
     "metadata": {
      "needs_background": "light"
     },
     "output_type": "display_data"
    }
   ],
   "source": [
    "drinks = [\"cappuccino\", \"latte\", \"chai\", \"americano\", \"mocha\", \"espresso\"]\n",
    "sales =  [91, 76, 56, 66, 52, 27]\n",
    "\n",
    "plt.bar(range(len(drinks)), sales)\n",
    "\n",
    "ax = plt.subplot()\n",
    "ax.set_xticks(range(len(drinks)))\n",
    "ax.set_xticklabels(drinks)\n",
    "\n",
    "\n",
    "plt.show()"
   ]
  },
  {
   "cell_type": "raw",
   "metadata": {},
   "source": [
    "We can use a bar chart to compare two sets of data with the same types of axis values. To do this, we plot two sets of bars next to each other, so that the values of each category can be compared.\n",
    "\n",
    "Some examples of data that side-by-side bars could be useful for include:\n",
    "\n",
    "- the populations of two countries over time\n",
    "- prices for different foods at two different restaurants\n",
    "- enrollments in different classes for males and females"
   ]
  },
  {
   "cell_type": "code",
   "execution_count": 11,
   "metadata": {},
   "outputs": [
    {
     "data": {
      "image/png": "[encoded data removed]",
      "text/plain": [
       "<Figure size 432x288 with 1 Axes>"
      ]
     },
     "metadata": {
      "needs_background": "light"
     },
     "output_type": "display_data"
    }
   ],
   "source": [
    "drinks = [\"cappuccino\", \"latte\", \"chai\", \"americano\", \"mocha\", \"espresso\"]\n",
    "sales1 =  [91, 76, 56, 66, 52, 27]\n",
    "sales2 = [65, 82, 36, 68, 38, 40]\n",
    "\n",
    "# That just generated the first set of x-values.\n",
    "n = 1  # This is our first dataset (1 out of 2)\n",
    "t = 2 # Number of datasets\n",
    "d = 6 # Number of sets of bars\n",
    "w = 0.8 # Width of each bar\n",
    "store1_x = [t*element + w*n for element\n",
    "             in range(d)]\n",
    "plt.bar(store1_x, sales1)\n",
    "\n",
    "# That just generated the second set of x-values.\n",
    "n = 2  # This is our second dataset (2 out of 2)\n",
    "t = 2 # Number of datasets\n",
    "d = 6 # Number of sets of bars\n",
    "w = 0.8 # Width of each bar\n",
    "store2_x = [t*element + w*n for element\n",
    "             in range(d)]\n",
    "plt.bar(store2_x, sales2)\n",
    "\n",
    "plt.show()"
   ]
  },
  {
   "cell_type": "markdown",
   "metadata": {},
   "source": [
    "# STACKED BARS"
   ]
  },
  {
   "cell_type": "raw",
   "metadata": {},
   "source": [
    "If we want to compare two sets of data while preserving knowledge of the total between them, we can also stack the bars instead of putting them side by side.\n",
    "\n",
    "We do this by using the keyword bottom. The top set of bars will have bottom set to the heights of the other set of bars."
   ]
  },
  {
   "cell_type": "code",
   "execution_count": 12,
   "metadata": {},
   "outputs": [
    {
     "data": {
      "image/png": "[encoded data removed]",
      "text/plain": [
       "<Figure size 432x288 with 1 Axes>"
      ]
     },
     "metadata": {
      "needs_background": "light"
     },
     "output_type": "display_data"
    }
   ],
   "source": [
    "drinks = [\"cappuccino\", \"latte\", \"chai\", \"americano\", \"mocha\", \"espresso\"]\n",
    "sales1 =  [91, 76, 56, 66, 52, 27]\n",
    "sales2 = [65, 82, 36, 68, 38, 40]\n",
    "  \n",
    "# plot the stacked bars\n",
    "plt.bar(range(len(drinks)), sales1)\n",
    "plt.bar(range(len(drinks)), sales2, bottom=sales1)\n",
    "\n",
    "# add a legend\n",
    "plt.legend([\"Location 1\", \"Location 2\"])\n",
    "\n",
    "plt.show()"
   ]
  },
  {
   "cell_type": "markdown",
   "metadata": {},
   "source": [
    "# ERROR BARS"
   ]
  },
  {
   "cell_type": "raw",
   "metadata": {},
   "source": [
    "Sometimes, we need to visually communicate some sort of uncertainty in the heights of those bars. Here are some examples:\n",
    "\n",
    "- The average number of students in a 3rd grade classroom is 30, but some classes have as few as 18 and others have as many as 35 students.\n",
    "- We measured that the weight of a certain fruit was 35g, but we know that our scale isn’t very precise, so the true weight of the fruit might be as much as 40g or as little as 30g.\n",
    "- The average price of a soda is $1.00, but we also want to communicate that the standard deviation is $0.20.\n",
    "\n",
    "yerr is an argument that allows to add the error, capsize is changing the size of the error displayed on the chart."
   ]
  },
  {
   "cell_type": "code",
   "execution_count": 13,
   "metadata": {},
   "outputs": [
    {
     "data": {
      "image/png": "[encoded data removed]",
      "text/plain": [
       "<Figure size 432x288 with 1 Axes>"
      ]
     },
     "metadata": {
      "needs_background": "light"
     },
     "output_type": "display_data"
    }
   ],
   "source": [
    "drinks = [\"cappuccino\", \"latte\", \"chai\", \"americano\", \"mocha\", \"espresso\"]\n",
    "ounces_of_milk = [6, 9, 4, 0, 9, 0]\n",
    "error = [0.6, 0.9, 0.4, 0, 0.9, 0]\n",
    "\n",
    "plt.bar(range(len(drinks)), ounces_of_milk, yerr=error, capsize=5)\n",
    "\n",
    "plt.show()"
   ]
  },
  {
   "cell_type": "markdown",
   "metadata": {},
   "source": [
    "# FILL BETWEEN "
   ]
  },
  {
   "cell_type": "raw",
   "metadata": {},
   "source": [
    "Let’s take a look at how we might do this in an aesthetically pleasing way on line graphs. In Matplotlib, we can use plt.fill_between to shade error. This function takes three arguments:\n",
    "\n",
    "    x-values — this works just like the x-values of plt.plot\n",
    "    lower-bound for y-values — sets the bottom of the shared area\n",
    "    upper-bound for y-values — sets the top of the shared area\n",
    "\n",
    "Generally, we use fill_between to create a shaded error region, and then plot the actual line over it. We can set the alpha keyword to a value between 0 and 1 in the fill_between call for transparency so that we can see the line underneath."
   ]
  },
  {
   "cell_type": "code",
   "execution_count": 14,
   "metadata": {},
   "outputs": [
    {
     "name": "stderr",
     "output_type": "stream",
     "text": [
      "C:\\Users\\utilisateur\\Anaconda3\\lib\\site-packages\\ipykernel_launcher.py:10: MatplotlibDeprecationWarning: Adding an axes using the same arguments as a previous axes currently reuses the earlier instance.  In a future version, a new instance will always be created and returned.  Meanwhile, this warning can be suppressed, and the future behavior ensured, by passing a unique label to each axes instance.\n",
      "  # Remove the CWD from sys.path while we load stuff.\n"
     ]
    },
    {
     "data": {
      "image/png": "[encoded data removed]",
      "text/plain": [
       "<Figure size 432x288 with 1 Axes>"
      ]
     },
     "metadata": {
      "needs_background": "light"
     },
     "output_type": "display_data"
    }
   ],
   "source": [
    "months = range(12)\n",
    "month_names = [\"Jan\", \"Feb\", \"Mar\", \"Apr\", \"May\", \"Jun\", \"Jul\", \"Aug\", \"Sep\", \"Oct\", \"Nov\", \"Dec\"]\n",
    "revenue = [16000, 14000, 17500, 19500, 21500, 21500, 22000, 23000, 20000, 19500, 18000, 16500]\n",
    "\n",
    "y_lower = [i - 0.1 * i for i in revenue]\n",
    "y_upper = [i + 0.1 * i for i in revenue]\n",
    "\n",
    "#your work here\n",
    "plt.plot(months, revenue)\n",
    "ax = plt.subplot()\n",
    "ax.set_xticks(months)\n",
    "ax.set_xticklabels(month_names)\n",
    "\n",
    "plt.fill_between(months, y_lower, y_upper, alpha=0.2)\n",
    "\n",
    "plt.show()"
   ]
  },
  {
   "cell_type": "markdown",
   "metadata": {},
   "source": [
    "# PIE CHARTS "
   ]
  },
  {
   "cell_type": "raw",
   "metadata": {},
   "source": [
    "If we want to display elements of a data set as proportions of a whole, we can use a pie chart.\n",
    "\n",
    "Pie charts are helpful for displaying data like:\n",
    "\n",
    "- Different ethnicities that make up a school district\n",
    "- Different macronutrients (carbohydrates, fat, protein) that make up a meal\n",
    "- Different responses to an online poll\n",
    "\n",
    "In Matplotlib, you can make a pie chart with the command plt.pie\n",
    "\n",
    "When we make pie charts in Matplotlib, we almost always want to set the axes to be equal to fix this issue. To do this, we use plt.axis('equal')"
   ]
  },
  {
   "cell_type": "code",
   "execution_count": 16,
   "metadata": {},
   "outputs": [
    {
     "data": {
      "image/png": "[encoded data removed]",
      "text/plain": [
       "<Figure size 432x288 with 1 Axes>"
      ]
     },
     "metadata": {},
     "output_type": "display_data"
    }
   ],
   "source": [
    "payment_method_names = [\"Card Swipe\", \"Cash\", \"Apple Pay\", \"Other\"]\n",
    "payment_method_freqs = [270, 77, 32, 11]\n",
    "\n",
    "#pie chart creation\n",
    "plt.pie(payment_method_freqs, colors=['grey', 'purple', 'green', 'black'])\n",
    "plt.axis(\"equal\")\n",
    "plt.show()"
   ]
  },
  {
   "cell_type": "raw",
   "metadata": {},
   "source": [
    "We also want to be able to understand what each slice of the pie represents. To do this, we can either:\n",
    "\n",
    "    use a legend to label each color, or\n",
    "    put labels on the chart itself."
   ]
  },
  {
   "cell_type": "code",
   "execution_count": 20,
   "metadata": {},
   "outputs": [
    {
     "data": {
      "image/png": "[encoded data removed]",
      "text/plain": [
       "<Figure size 432x288 with 1 Axes>"
      ]
     },
     "metadata": {},
     "output_type": "display_data"
    }
   ],
   "source": [
    "payment_method_names = [\"Card Swipe\", \"Cash\", \"Apple Pay\", \"Other\"]\n",
    "payment_method_freqs = [270, 77, 32, 11]\n",
    "\n",
    "# the argument autopct will calculate the percentage of the datas \n",
    "plt.pie(payment_method_freqs, autopct='%0.1f%%', colors=['grey', 'purple', 'green', 'white'])\n",
    "plt.axis('equal')\n",
    "# use legend to label each color\n",
    "plt.legend(payment_method_names)\n",
    "plt.show()"
   ]
  },
  {
   "cell_type": "markdown",
   "metadata": {},
   "source": [
    "# HISTOGRAM"
   ]
  },
  {
   "cell_type": "raw",
   "metadata": {},
   "source": [
    "Sometimes we want to get a feel for a large dataset with many samples beyond knowing just the basic metrics of mean, median, or standard deviation. To get more of an intuitive sense for a dataset, we can use a histogram to display all the values.\n",
    "\n",
    "A histogram tells us how many values in a dataset fall between different sets of numbers.\n",
    "\n",
    "All bins in a histogram are always the same size. The width of each bin is the distance between the minimum and maximum values of each bin.\n",
    "\n",
    "Each bin is represented by a different rectangle whose height is the number of elements from the dataset that fall within that bin.\n",
    "\n",
    "To make a histogram in Matplotlib, we use the command plt.hist. plt.hist finds the minimum and the maximum values in your dataset and creates 10 equally-spaced bins between those values.\n",
    "\n",
    "If we want more than 10 bins, we can use the keyword bins to set how many bins we want to divide the data into. The keyword range selects the minimum and maximum values to plot."
   ]
  },
  {
   "cell_type": "code",
   "execution_count": 24,
   "metadata": {},
   "outputs": [
    {
     "data": {
      "image/png": "[encoded data removed]",
      "text/plain": [
       "<Figure size 432x288 with 1 Axes>"
      ]
     },
     "metadata": {
      "needs_background": "light"
     },
     "output_type": "display_data"
    }
   ],
   "source": [
    "revenue = [16000, 14000, 17500, 19500, 21500, 21500, 22000, 23000, 20000, 19500, 18000, 16500]\n",
    "\n",
    "plt.hist(revenue, bins=12)\n",
    "plt.show()"
   ]
  },
  {
   "cell_type": "raw",
   "metadata": {},
   "source": [
    "If we want to compare two different distributions, we can put multiple histograms on the same plot.\n",
    "\n",
    "Use the keyword alpha, which can be a value between 0 and 1. This sets the transparency of the histogram. A value of 0 would make the bars entirely transparent. A value of 1 would make the bars completely opaque.\n",
    "\n",
    "Use the keyword histtype with the argument 'step' to draw just the outline of a histogram.\n",
    "\n",
    "We can normalize our histograms using normed=True. This command divides the height of each column by a constant such that the total shaded area of the histogram sums to 1."
   ]
  }
 ],
 "metadata": {
  "kernelspec": {
   "display_name": "Python 3",
   "language": "python",
   "name": "python3"
  },
  "language_info": {
   "codemirror_mode": {
    "name": "ipython",
    "version": 3
   },
   "file_extension": ".py",
   "mimetype": "text/x-python",
   "name": "python",
   "nbconvert_exporter": "python",
   "pygments_lexer": "ipython3",
   "version": "3.7.3"
  }
 },
 "nbformat": 4,
 "nbformat_minor": 2
}
