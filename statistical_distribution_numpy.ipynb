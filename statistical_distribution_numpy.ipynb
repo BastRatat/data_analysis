{
 "cells": [
  {
   "cell_type": "markdown",
   "metadata": {},
   "source": [
    "# STATISTICAL DISTRIBUTION WITH NUMPY"
   ]
  },
  {
   "cell_type": "code",
   "execution_count": 2,
   "metadata": {},
   "outputs": [],
   "source": [
    "import numpy as np\n",
    "from matplotlib import pyplot as plt"
   ]
  },
  {
   "cell_type": "markdown",
   "metadata": {},
   "source": [
    "# HISTOGRAMS "
   ]
  },
  {
   "cell_type": "raw",
   "metadata": {},
   "source": [
    "Histograms allow us to visualize :\n",
    "    - Do some values occur more often than others?\n",
    "    - What is the range of the dataset (i.e., the min and the max values)?\n",
    "    - Are there a lot of outliers?\n",
    "\n",
    "All bins in a histogram are always the same size. The width of each bin is the distance between the minimum and maximum values of each bin.\n",
    "\n",
    "We use matplotlib plt.hist(data, bin=x) to plot histograms."
   ]
  },
  {
   "cell_type": "code",
   "execution_count": 3,
   "metadata": {},
   "outputs": [
    {
     "data": {
      "image/png": "[encoded data removed]",
      "text/plain": [
       "<Figure size 432x288 with 1 Axes>"
      ]
     },
     "metadata": {
      "needs_background": "light"
     },
     "output_type": "display_data"
    }
   ],
   "source": [
    "data = np.array([1, 1, 1, 2, 2, 2, 2, 2, 3, 3, 4, 4, 4, 4, 5])\n",
    "\n",
    "plt.hist(data, bins=5, range=(1, 6))\n",
    "plt.show()\n"
   ]
  },
  {
   "cell_type": "markdown",
   "metadata": {},
   "source": [
    "# NORMAL DISTRIBUTION"
   ]
  },
  {
   "cell_type": "raw",
   "metadata": {},
   "source": [
    "We can generate our own normally distributed datasets using NumPy. Using these datasets can help us better understand the properties and behavior of different distributions. We can also use them to model results, which we can then use as a comparison to real data.\n",
    "\n",
    "In order to create these datasets, we need to use a random number generator. The NumPy library has several functions for generating random numbers, including one specifically built to generate a set of numbers that fit a normal distribution: np.random.normal. This function takes the following keyword arguments:\n",
    "\n",
    "    - loc: the mean for the normal distribution\n",
    "    - scale: the standard deviation of the distribution\n",
    "    - size: the number of random numbers to generate"
   ]
  },
  {
   "cell_type": "code",
   "execution_count": 8,
   "metadata": {},
   "outputs": [
    {
     "data": {
      "image/png": "[encoded data removed]",
      "text/plain": [
       "<Figure size 432x288 with 1 Axes>"
      ]
     },
     "metadata": {
      "needs_background": "light"
     },
     "output_type": "display_data"
    }
   ],
   "source": [
    "a = np.random.normal(0, 1, size=100000)\n",
    "\n",
    "plt.hist(a, bins=100)\n",
    "plt.show()"
   ]
  },
  {
   "cell_type": "raw",
   "metadata": {},
   "source": [
    "- 68% of our samples will fall between +/- 1 standard deviation of the mean\n",
    "- 95% of our samples will fall between +/- 2 standard deviations of the mean\n",
    "- 99.7% of our samples will fall between +/- 3 standard deviations of the mean"
   ]
  },
  {
   "cell_type": "markdown",
   "metadata": {},
   "source": [
    "# BINOMIAL DISTRIBUTION"
   ]
  },
  {
   "cell_type": "raw",
   "metadata": {},
   "source": [
    "The binomial distribution is important because it allows us to know how likely a certain outcome is, even when it’s not the expected one.\n",
    "\n",
    "We can use NumPy - specifically, its ability to generate random numbers. We can use these random numbers to model a distribution of numerical data that matches the real-life scenario we’re interested in understanding.\n",
    "\n",
    "NumPy has a function for generating binomial distributions: np.random.binomial, which we can use to determine the probability of different outcomes.\n",
    "\n",
    "The function will return the number of successes for each “experiment”.\n",
    "\n",
    "It takes the following arguments:\n",
    "\n",
    "    - N: The number of samples or trials\n",
    "    - P: The probability of success\n",
    "    - size: The number of experiments"
   ]
  },
  {
   "cell_type": "raw",
   "metadata": {},
   "source": [
    "For instance, suppose we want to know the different probabilities of our basketball player making 1, 2, 3, etc. out of 10 shots.\n",
    "\n",
    "Let’s generate a bunch of “experiments” of our basketball player making 10 shots. We choose a big N to be sure that our probabilities converge on the correct answer.\n",
    "\n",
    "- Size : 10,000 \"experiments\"\n",
    "- N = 10 shots\n",
    "- P = 0.30 (30% he'll get a free throw)"
   ]
  },
  {
   "cell_type": "code",
   "execution_count": 12,
   "metadata": {},
   "outputs": [
    {
     "data": {
      "image/png": "[encoded data removed]",
      "text/plain": [
       "<Figure size 432x288 with 1 Axes>"
      ]
     },
     "metadata": {
      "needs_background": "light"
     },
     "output_type": "display_data"
    }
   ],
   "source": [
    "basket = np.random.binomial(10, 0.30, size=10000)\n",
    "\n",
    "plt.hist(basket, bins=10, density=True)\n",
    "plt.xlabel('Number of \"Free Throws\"')\n",
    "plt.ylabel('Frequency')\n",
    "plt.title('BINOMIAL DISTRIBUTION FOR 10 SHOTS')\n",
    "\n",
    "\n",
    "plt.show()"
   ]
  },
  {
   "cell_type": "raw",
   "metadata": {},
   "source": [
    "Let’s calculate the probability that he makes 4 baskets:"
   ]
  },
  {
   "cell_type": "code",
   "execution_count": 19,
   "metadata": {},
   "outputs": [
    {
     "name": "stdout",
     "output_type": "stream",
     "text": [
      "The probabily that the player makes 4 baskets is 21.0%\n"
     ]
    }
   ],
   "source": [
    "four_baskets = np.mean(basket==4)\n",
    "print(\"The probabily that the player makes 4 baskets is {}%\".format(round(four_baskets*100),3))"
   ]
  }
 ],
 "metadata": {
  "kernelspec": {
   "display_name": "Python 3",
   "language": "python",
   "name": "python3"
  },
  "language_info": {
   "codemirror_mode": {
    "name": "ipython",
    "version": 3
   },
   "file_extension": ".py",
   "mimetype": "text/x-python",
   "name": "python",
   "nbconvert_exporter": "python",
   "pygments_lexer": "ipython3",
   "version": "3.7.3"
  }
 },
 "nbformat": 4,
 "nbformat_minor": 2
}
