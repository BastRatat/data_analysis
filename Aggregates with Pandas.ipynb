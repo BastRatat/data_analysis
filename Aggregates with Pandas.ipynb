{
 "cells": [
  {
   "cell_type": "code",
   "execution_count": 3,
   "metadata": {},
   "outputs": [],
   "source": [
    "import pandas as pd\n",
    "import numpy as np\n",
    "import os"
   ]
  },
  {
   "cell_type": "code",
   "execution_count": 4,
   "metadata": {},
   "outputs": [
    {
     "data": {
      "text/plain": [
       "'C:\\\\Users\\\\utilisateur\\\\Desktop\\\\Py\\\\jupyter\\\\Cours'"
      ]
     },
     "execution_count": 4,
     "metadata": {},
     "output_type": "execute_result"
    }
   ],
   "source": [
    "pwd"
   ]
  },
  {
   "cell_type": "code",
   "execution_count": 6,
   "metadata": {},
   "outputs": [
    {
     "name": "stdout",
     "output_type": "stream",
     "text": [
      "File successfully loaded\n"
     ]
    }
   ],
   "source": [
    "try:\n",
    "    orders = pd.read_csv(r'C:\\Users\\utilisateur\\Desktop\\Py\\jupyter\\Cours\\orders.csv')\n",
    "    print(\"File successfully loaded\")\n",
    "except FileNotFoundError:\n",
    "    print('File not found in the working directory')"
   ]
  },
  {
   "cell_type": "code",
   "execution_count": 7,
   "metadata": {},
   "outputs": [
    {
     "name": "stdout",
     "output_type": "stream",
     "text": [
      "      id first_name    last_name                         email     shoe_type  \\\n",
      "0  41874       Kyle         Peck          KylePeck71@gmail.com  ballet flats   \n",
      "1  31349  Elizabeth    Velazquez      EVelazquez1971@gmail.com         boots   \n",
      "2  43416      Keith     Saunders              KS4047@gmail.com       sandles   \n",
      "3  56054       Ryan      Sweeney     RyanSweeney14@outlook.com       sandles   \n",
      "4  77402      Donna  Blankenship              DB3807@gmail.com     stilettos   \n",
      "5  97148     Albert       Dillon       Albert.Dillon@gmail.com        wedges   \n",
      "6  19998     Judith       Hewitt      JudithHewitt98@gmail.com     stilettos   \n",
      "7  83290      Kayla       Hardin        Kayla.Hardin@gmail.com     stilettos   \n",
      "8  77867     Steven  Blankenship  Steven.Blankenship@gmail.com        wedges   \n",
      "9  54885      Carol   Mclaughlin              CM3415@gmail.com  ballet flats   \n",
      "\n",
      "  shoe_material shoe_color  price  \n",
      "0  faux-leather      black  385.0  \n",
      "1        fabric      brown  388.0  \n",
      "2       leather       navy  346.0  \n",
      "3        fabric      brown  344.0  \n",
      "4        fabric      brown  289.0  \n",
      "5        fabric      brown  266.0  \n",
      "6       leather      black  395.0  \n",
      "7       leather      white  241.0  \n",
      "8       leather       navy  266.0  \n",
      "9  faux-leather      brown  440.0  \n"
     ]
    }
   ],
   "source": [
    "print(orders.head(10))"
   ]
  },
  {
   "cell_type": "raw",
   "metadata": {},
   "source": [
    "The general syntax for calcultations in columns are : df.column_name.command()\n",
    "mean() : average of all values in column \n",
    "std() : standard deviation\n",
    "median() : median\n",
    "max() : maximum value in column\n",
    "min() : minimum value in column\n",
    "count() : number of values in column\n",
    "nunique() : number of uniques values in column\n",
    "unique() : list of uniques values in column"
   ]
  },
  {
   "cell_type": "raw",
   "metadata": {},
   "source": [
    "Our finance department wants to know the price of the most expensive pair of shoes purchased. Save your answer to the variable most_expensive"
   ]
  },
  {
   "cell_type": "code",
   "execution_count": 12,
   "metadata": {},
   "outputs": [
    {
     "name": "stdout",
     "output_type": "stream",
     "text": [
      "The most expensive item in the database costs 493.0\n"
     ]
    }
   ],
   "source": [
    "most_expensive = orders.price.max()\n",
    "print('The most expensive item in the database costs {}'.format(most_expensive))"
   ]
  },
  {
   "cell_type": "raw",
   "metadata": {},
   "source": [
    "Our fashion department wants to know how many different colors of shoes we are selling. Save your answer to the variable num_colors."
   ]
  },
  {
   "cell_type": "code",
   "execution_count": 13,
   "metadata": {},
   "outputs": [
    {
     "name": "stdout",
     "output_type": "stream",
     "text": [
      "Our company is selling 5 different colors\n"
     ]
    }
   ],
   "source": [
    "num_colors = orders.shoe_color.nunique()\n",
    "print('Our company is selling {} different colors'.format(num_colors))"
   ]
  },
  {
   "cell_type": "raw",
   "metadata": {},
   "source": [
    "When we have a bunch of data, we often want to calculate aggregate statistics (mean, standard deviation, median, percentiles, etc.) over certain subsets of the data. We use a groupby() statement to do so."
   ]
  },
  {
   "cell_type": "code",
   "execution_count": null,
   "metadata": {},
   "outputs": [],
   "source": [
    "Now, the finance department want to know the most expensive shoe for each shoe_type (i.e., the most expensive boot, the most expensive ballet flat, etc.).\n",
    "\n",
    "Save your answer to the variable pricey_shoes."
   ]
  },
  {
   "cell_type": "code",
   "execution_count": 21,
   "metadata": {},
   "outputs": [
    {
     "name": "stdout",
     "output_type": "stream",
     "text": [
      "shoe_type\n",
      "ballet flats    481.0\n",
      "boots           478.0\n",
      "clogs           493.0\n",
      "sandles         456.0\n",
      "stilettos       487.0\n",
      "wedges          461.0\n",
      "Name: price, dtype: float64\n",
      "------------\n",
      "The object type is : <class 'pandas.core.series.Series'>\n"
     ]
    }
   ],
   "source": [
    "pricey_shoes = orders.groupby('shoe_type').price.max()\n",
    "print(pricey_shoes)\n",
    "print('------------')\n",
    "print(\"The object type is : {}\".format(type(pricey_shoes)))"
   ]
  },
  {
   "cell_type": "raw",
   "metadata": {},
   "source": [
    "After using groupby, we often need to clean our resulting data. The command .reset_index() will transform our Series into a DataFrame and move the indices into their own column."
   ]
  },
  {
   "cell_type": "code",
   "execution_count": 22,
   "metadata": {},
   "outputs": [
    {
     "name": "stdout",
     "output_type": "stream",
     "text": [
      "      shoe_type  price\n",
      "0  ballet flats  481.0\n",
      "1         boots  478.0\n",
      "2         clogs  493.0\n",
      "3       sandles  456.0\n",
      "4     stilettos  487.0\n",
      "5        wedges  461.0\n",
      "------------\n",
      "The object type is : <class 'pandas.core.frame.DataFrame'>\n"
     ]
    }
   ],
   "source": [
    "pricey_shoes = orders.groupby('shoe_type').price.max().reset_index()\n",
    "print(pricey_shoes)\n",
    "print('------------')\n",
    "print(\"The object type is : {}\".format(type(pricey_shoes)))"
   ]
  },
  {
   "cell_type": "raw",
   "metadata": {},
   "source": [
    "Sometimes, the operation that you want to perform is more complicated than mean or count. In those cases, you can use the apply method and lambda functions, just like we did for individual column operations. Note that the input to our lambda function will always be a list of values.\n",
    "\n",
    " Our Marketing team says that it’s important to have some affordably priced shoes available for every color of shoe that we sell.\n",
    "\n",
    "Let’s calculate the 25th percentile for shoe price for each shoe_color to help Marketing decide if we have enough cheap shoes on sale. Save the data to the variable cheap_shoes."
   ]
  },
  {
   "cell_type": "code",
   "execution_count": 25,
   "metadata": {},
   "outputs": [
    {
     "name": "stdout",
     "output_type": "stream",
     "text": [
      "  shoe_color  price\n",
      "0      black    NaN\n",
      "1      brown  193.5\n",
      "2       navy  205.5\n",
      "3        red  250.0\n",
      "4      white  196.0\n"
     ]
    }
   ],
   "source": [
    "cheap_shoes = orders.groupby('shoe_color').price.apply(lambda x: np.percentile(x, 25)).reset_index()\n",
    "print(cheap_shoes)"
   ]
  },
  {
   "cell_type": "raw",
   "metadata": {},
   "source": [
    "Sometimes, we want to group by more than one column. We can easily do this by passing a list of column names into the groupby method.\n",
    "\n",
    "At ShoeFly.com, our Purchasing team thinks that certain shoe_type/shoe_color combinations are particularly popular this year (for example, blue ballet flats are all the rage in Paris).\n",
    "\n",
    "Create a DataFrame with the total number of shoes of each shoe_type/shoe_color combination purchased. Save it to the variable shoe_counts.\n",
    "\n",
    "You should be able to do this using groupby and count()."
   ]
  },
  {
   "cell_type": "code",
   "execution_count": 28,
   "metadata": {},
   "outputs": [
    {
     "name": "stdout",
     "output_type": "stream",
     "text": [
      "      shoe_type shoe_color  id\n",
      "0  ballet flats      black   2\n",
      "1  ballet flats      brown   5\n",
      "2  ballet flats        red   3\n",
      "3  ballet flats      white   5\n",
      "4         boots      black   3\n",
      "5         boots      brown   5\n",
      "6         boots       navy   6\n",
      "7         boots        red   2\n",
      "8         boots      white   3\n",
      "9         clogs      black   4\n"
     ]
    }
   ],
   "source": [
    "shoe_counts = orders.groupby(['shoe_type', 'shoe_color']).id.count().reset_index()\n",
    "print(shoe_counts.head(10))"
   ]
  },
  {
   "cell_type": "raw",
   "metadata": {},
   "source": [
    "When we perform a groupby across multiple columns, we often want to change how our data is stored. Reorganizing a table in this way is called pivoting. The new table is called a pivot table.In Pandas, the command for pivot is:\n",
    "\n",
    "df.pivot(columns='ColumnToPivot',\n",
    "         index='ColumnToBeRows',\n",
    "         values='ColumnToBeValues')\n",
    "         \n",
    "Just like with groupby, the output of a pivot command is a new DataFrame, but the indexing tends to be “weird”, so we usually follow up with .reset_index()."
   ]
  },
  {
   "cell_type": "code",
   "execution_count": 29,
   "metadata": {},
   "outputs": [
    {
     "name": "stdout",
     "output_type": "stream",
     "text": [
      "shoe_color     shoe_type  black  brown  navy  red  white\n",
      "0           ballet flats    2.0    5.0   NaN  3.0    5.0\n",
      "1                  boots    3.0    5.0   6.0  2.0    3.0\n",
      "2                  clogs    4.0    6.0   1.0  4.0    1.0\n",
      "3                sandles    1.0    4.0   5.0  3.0    4.0\n",
      "4              stilettos    5.0    3.0   2.0  2.0    2.0\n",
      "5                 wedges    3.0    4.0   4.0  5.0    2.0\n"
     ]
    }
   ],
   "source": [
    "shoe_counts_pivot = shoe_counts.pivot(\n",
    "columns='shoe_color',\n",
    "index='shoe_type',\n",
    "values='id').reset_index()\n",
    "print(shoe_counts_pivot)"
   ]
  }
 ],
 "metadata": {
  "kernelspec": {
   "display_name": "Python 3",
   "language": "python",
   "name": "python3"
  },
  "language_info": {
   "codemirror_mode": {
    "name": "ipython",
    "version": 3
   },
   "file_extension": ".py",
   "mimetype": "text/x-python",
   "name": "python",
   "nbconvert_exporter": "python",
   "pygments_lexer": "ipython3",
   "version": "3.7.3"
  }
 },
 "nbformat": 4,
 "nbformat_minor": 2
}
