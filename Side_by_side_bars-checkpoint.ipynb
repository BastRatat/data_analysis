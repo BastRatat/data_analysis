{
 "cells": [
  {
   "cell_type": "markdown",
   "metadata": {},
   "source": [
    "# SIDE BY SIDE BARS"
   ]
  },
  {
   "cell_type": "code",
   "execution_count": 1,
   "metadata": {},
   "outputs": [],
   "source": [
    "from matplotlib import pyplot as plt"
   ]
  },
  {
   "cell_type": "raw",
   "metadata": {},
   "source": [
    "The data you will need to recreate this chart is in the lists middle_school_a, middle_school_b, and unit_topics."
   ]
  },
  {
   "cell_type": "code",
   "execution_count": 2,
   "metadata": {},
   "outputs": [],
   "source": [
    "unit_topics = ['Limits', 'Derivatives', 'Integrals', 'Diff Eq', 'Applications']\n",
    "middle_school_a = [80, 85, 84, 83, 86]\n",
    "middle_school_b = [73, 78, 77, 82, 86]"
   ]
  },
  {
   "cell_type": "raw",
   "metadata": {},
   "source": [
    "Using create_x, make the lists school_a_x and school_b_x which will determine where to put the bars for Middle School A and Middle School B along the x-axis."
   ]
  },
  {
   "cell_type": "code",
   "execution_count": 3,
   "metadata": {},
   "outputs": [],
   "source": [
    "def create_x(t, w, n, d):\n",
    "    return [t*x + w*n for x in range(d)]\n",
    "\n",
    "school_a_x = create_x(2, 0.8, 1, 5)\n",
    "school_b_x = create_x(2, 0.8, 2, 5)"
   ]
  },
  {
   "cell_type": "raw",
   "metadata": {},
   "source": [
    "Create a figure of width 10 and height 8."
   ]
  },
  {
   "cell_type": "code",
   "execution_count": 5,
   "metadata": {},
   "outputs": [
    {
     "data": {
      "text/plain": [
       "<Figure size 720x576 with 0 Axes>"
      ]
     },
     "metadata": {},
     "output_type": "display_data"
    }
   ],
   "source": [
    "plt.figure(figsize=(10,8))\n",
    "plt.show()"
   ]
  },
  {
   "cell_type": "raw",
   "metadata": {},
   "source": [
    "Create a set of axes and save them to ax."
   ]
  },
  {
   "cell_type": "code",
   "execution_count": 7,
   "metadata": {},
   "outputs": [
    {
     "data": {
      "image/png": "[encoded data removed]",
      "text/plain": [
       "<Figure size 432x288 with 1 Axes>"
      ]
     },
     "metadata": {
      "needs_background": "light"
     },
     "output_type": "display_data"
    }
   ],
   "source": [
    "ax = plt.subplot()\n",
    "plt.show()"
   ]
  },
  {
   "cell_type": "raw",
   "metadata": {},
   "source": [
    "Plot a set of bars representing middle_school_a and a set representing middle_school_b next to each other on the same graph."
   ]
  },
  {
   "cell_type": "code",
   "execution_count": 8,
   "metadata": {},
   "outputs": [
    {
     "data": {
      "image/png": "[encoded data removed]",
      "text/plain": [
       "<Figure size 432x288 with 1 Axes>"
      ]
     },
     "metadata": {
      "needs_background": "light"
     },
     "output_type": "display_data"
    }
   ],
   "source": [
    "plt.bar(school_a_x, middle_school_a)\n",
    "plt.bar(school_b_x, middle_school_b)\n",
    "plt.show()"
   ]
  },
  {
   "cell_type": "raw",
   "metadata": {},
   "source": [
    "Create a new list of x-values called middle_x, which are the values in the middle of school_a_x and school_b_x. This is where we will place the x-ticks. Look at the final graph to see this placement."
   ]
  },
  {
   "cell_type": "code",
   "execution_count": 9,
   "metadata": {},
   "outputs": [],
   "source": [
    "middle_x = [(a+b)/2 for a, b in zip(school_a_x, school_b_x)]"
   ]
  },
  {
   "cell_type": "raw",
   "metadata": {},
   "source": [
    "Set the x-ticks to be the middle_x list. Set the x-tick labels to be the list unit_topics. Create a legend, as shown in the final graph, that labels the first set of bars Middle School A and the second set of bars Middle School B. Create a title (“Test Averages on Different Units”), x-axis label (“Unit”), and y-axis label (“Test Average”). Save your figure to a file called my_side_by_side.png."
   ]
  },
  {
   "cell_type": "code",
   "execution_count": 13,
   "metadata": {},
   "outputs": [
    {
     "data": {
      "image/png": "[encoded data removed]",
      "text/plain": [
       "<Figure size 720x576 with 1 Axes>"
      ]
     },
     "metadata": {
      "needs_background": "light"
     },
     "output_type": "display_data"
    }
   ],
   "source": [
    "def create_x(t, w, n, d):\n",
    "    return [t*x + w*n for x in range(d)]\n",
    "# Make your chart here\n",
    "school_a_x = create_x(2, 0.8, 1, 5)\n",
    "school_b_x = create_x(2, 0.8, 2, 5)\n",
    "\n",
    "plt.figure(figsize=(10,8))\n",
    "\n",
    "ax = plt.subplot()\n",
    "\n",
    "plt.bar(school_a_x, middle_school_a)\n",
    "plt.bar(school_b_x, middle_school_b)\n",
    "\n",
    "middle_x = [(a+b)/2 for a, b in zip(school_a_x, school_b_x)]\n",
    "\n",
    "ax.set_xticks(middle_x)\n",
    "ax.set_xticklabels(unit_topics)\n",
    "\n",
    "plt.legend(['Middle School A', 'Middle School B'])\n",
    "plt.title('TEST AVERAGES ON DIFFERENT UNITS')\n",
    "plt.xlabel(\"Unit\")\n",
    "plt.ylabel(\"Test Average\")\n",
    "plt.savefig(\"my_side_by_side.png\")\n",
    "\n",
    "plt.show()"
   ]
  }
 ],
 "metadata": {
  "kernelspec": {
   "display_name": "Python 3",
   "language": "python",
   "name": "python3"
  },
  "language_info": {
   "codemirror_mode": {
    "name": "ipython",
    "version": 3
   },
   "file_extension": ".py",
   "mimetype": "text/x-python",
   "name": "python",
   "nbconvert_exporter": "python",
   "pygments_lexer": "ipython3",
   "version": "3.7.3"
  }
 },
 "nbformat": 4,
 "nbformat_minor": 2
}
