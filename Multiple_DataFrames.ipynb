{
 "cells": [
  {
   "cell_type": "code",
   "execution_count": 2,
   "metadata": {},
   "outputs": [],
   "source": [
    "import pandas as pd\n",
    "import os"
   ]
  },
  {
   "cell_type": "code",
   "execution_count": 31,
   "metadata": {},
   "outputs": [
    {
     "name": "stdout",
     "output_type": "stream",
     "text": [
      "CSV successfully loaded\n"
     ]
    }
   ],
   "source": [
    "try:\n",
    "    sales = pd.read_csv(r'C:\\Users\\utilisateur\\Desktop\\Py\\jupyter\\Cours\\sales.csv')\n",
    "    targets = pd.read_csv(r'C:\\Users\\utilisateur\\Desktop\\Py\\jupyter\\Cours\\target.csv')\n",
    "    orders = pd.read_csv(r'C:\\Users\\utilisateur\\Desktop\\Py\\jupyter\\Cours\\orders3.csv')\n",
    "    products = pd.read_csv(r'C:\\Users\\utilisateur\\Desktop\\Py\\jupyter\\Cours\\products2.csv')\n",
    "    store_a = pd.read_csv(r'C:\\Users\\utilisateur\\Desktop\\Py\\jupyter\\Cours\\store_a.csv')\n",
    "    store_b = pd.read_csv(r'C:\\Users\\utilisateur\\Desktop\\Py\\jupyter\\Cours\\store_b.csv')\n",
    "    bakery = pd.read_csv(r'C:\\Users\\utilisateur\\Desktop\\Py\\jupyter\\Cours\\bakery.csv')\n",
    "    ice_cream = pd.read_csv(r'C:\\Users\\utilisateur\\Desktop\\Py\\jupyter\\Cours\\ice_cream.csv')\n",
    "    print(\"CSV successfully loaded\")\n",
    "except FileNotFoundError:\n",
    "    print(\"File not found\")"
   ]
  },
  {
   "cell_type": "raw",
   "metadata": {},
   "source": [
    "In order to efficiently store data, we often spread related information across multiple tables."
   ]
  },
  {
   "cell_type": "raw",
   "metadata": {},
   "source": [
    "The .merge method looks for columns that are common between two DataFrames and then looks for rows where those column’s values are the same. It then combines the matching rows into a single row in a new table.\n",
    "\n",
    "We can call the pd.merge method with two tables like this:"
   ]
  },
  {
   "cell_type": "code",
   "execution_count": 9,
   "metadata": {},
   "outputs": [
    {
     "name": "stdout",
     "output_type": "stream",
     "text": [
      "      month  revenue  target\n",
      "0   January      300     310\n",
      "1  February      290     270\n",
      "2     March      310     300\n",
      "3     April      325     350\n",
      "4       May      475     475\n",
      "5      June      495     500\n"
     ]
    }
   ],
   "source": [
    "sales_vs_targets = pd.merge(sales, targets)\n",
    "print(sales_vs_targets)"
   ]
  },
  {
   "cell_type": "code",
   "execution_count": 10,
   "metadata": {},
   "outputs": [
    {
     "name": "stdout",
     "output_type": "stream",
     "text": [
      "      month  revenue  target\n",
      "1  February      290     270\n",
      "2     March      310     300\n"
     ]
    }
   ],
   "source": [
    "good_months = sales_vs_targets[sales_vs_targets.revenue > sales_vs_targets.target]\n",
    "print(good_months)"
   ]
  },
  {
   "cell_type": "raw",
   "metadata": {},
   "source": [
    "In addition to using pd.merge, each DataFrame has its own merge method."
   ]
  },
  {
   "cell_type": "code",
   "execution_count": 11,
   "metadata": {},
   "outputs": [
    {
     "name": "stdout",
     "output_type": "stream",
     "text": [
      "      month  revenue  target\n",
      "0   January      300     310\n",
      "1  February      290     270\n"
     ]
    }
   ],
   "source": [
    "sales_vs_target_2 = sales.merge(targets)\n",
    "print(sales_vs_target_2.head(2))"
   ]
  },
  {
   "cell_type": "raw",
   "metadata": {},
   "source": [
    "use .rename to rename the columns for our merges."
   ]
  },
  {
   "cell_type": "code",
   "execution_count": 12,
   "metadata": {},
   "outputs": [
    {
     "name": "stdout",
     "output_type": "stream",
     "text": [
      "   id         description  price  product_id\n",
      "0   1      thing-a-ma-jig      5           1\n",
      "1   2  whatcha-ma-call-it     10           2\n",
      "2   3          doo-hickey      7           3\n",
      "3   4               gizmo      3           4\n"
     ]
    }
   ],
   "source": [
    "orders_products = pd.merge(orders, products.rename(columns={'id': 'product_id'}))\n",
    "print(orders_products)"
   ]
  },
  {
   "cell_type": "raw",
   "metadata": {},
   "source": [
    "When we merge two DataFrames whose rows don’t match perfectly, we lose the unmatched rows.\n",
    "\n",
    "This type of merge (where we only include matching rows) is called an inner merge. There are other types of merges that we can use when we want to keep information from the unmatched rows : Outer Join\n",
    "\n",
    "An Outer Join would include all rows from both tables, even if they don’t match. Any missing values are filled in with None or nan (which stands for “Not a Number”)."
   ]
  },
  {
   "cell_type": "code",
   "execution_count": 26,
   "metadata": {},
   "outputs": [
    {
     "name": "stdout",
     "output_type": "stream",
     "text": [
      "             item  store_a_inventory  store_b_inventory\n",
      "0          hammer               12.0                6.0\n",
      "1     screwdriver               15.0                NaN\n",
      "2           nails              200.0              250.0\n",
      "3          screws              350.0                NaN\n",
      "4             saw                6.0                6.0\n",
      "5       duct tape              150.0              150.0\n",
      "6          wrench               12.0                NaN\n",
      "7        pvc pipe               54.0               54.0\n",
      "8            rake                NaN               10.0\n",
      "9          shovel                NaN               15.0\n",
      "10  wooden dowels                NaN              192.0\n"
     ]
    }
   ],
   "source": [
    "store_a_and_b = pd.merge(store_a, store_b, how='outer')\n",
    "print(store_a_and_b)"
   ]
  },
  {
   "cell_type": "raw",
   "metadata": {},
   "source": [
    "A Left Merge includes all rows from the first (left) table, but only rows from the second (right) table that match the first table."
   ]
  },
  {
   "cell_type": "code",
   "execution_count": 27,
   "metadata": {},
   "outputs": [
    {
     "name": "stdout",
     "output_type": "stream",
     "text": [
      "          item  store_a_inventory  store_b_inventory\n",
      "0       hammer                 12                6.0\n",
      "1  screwdriver                 15                NaN\n",
      "2        nails                200              250.0\n",
      "3       screws                350                NaN\n",
      "4          saw                  6                6.0\n",
      "5    duct tape                150              150.0\n",
      "6       wrench                 12                NaN\n",
      "7     pvc pipe                 54               54.0\n"
     ]
    }
   ],
   "source": [
    "store_a_b_left = pd.merge(store_a, store_b, how='left')\n",
    "print(store_a_b_left)"
   ]
  },
  {
   "cell_type": "raw",
   "metadata": {},
   "source": [
    "Right merge is the exact opposite of left merge."
   ]
  },
  {
   "cell_type": "code",
   "execution_count": 30,
   "metadata": {},
   "outputs": [
    {
     "name": "stdout",
     "output_type": "stream",
     "text": [
      "            item  store_a_inventory  store_b_inventory\n",
      "0         hammer               12.0                  6\n",
      "1          nails              200.0                250\n",
      "2            saw                6.0                  6\n",
      "3      duct tape              150.0                150\n",
      "4       pvc pipe               54.0                 54\n",
      "5           rake                NaN                 10\n",
      "6         shovel                NaN                 15\n",
      "7  wooden dowels                NaN                192\n"
     ]
    }
   ],
   "source": [
    "store_a_b_right = pd.merge(store_a, store_b, how='right')\n",
    "print(store_a_b_right)"
   ]
  },
  {
   "cell_type": "raw",
   "metadata": {},
   "source": [
    "Sometimes, a dataset is broken into multiple tables. For instance, data is often split into multiple CSV files so that each download is smaller.\n",
    "\n",
    "When we need to reconstruct a single DataFrame from multiple smaller DataFrames, we can use the method pd.concat([df1, df2, df2, ...]). This method only works if all of the columns are the same in all of the DataFrames."
   ]
  },
  {
   "cell_type": "code",
   "execution_count": 32,
   "metadata": {},
   "outputs": [
    {
     "name": "stdout",
     "output_type": "stream",
     "text": [
      "                              item  price\n",
      "0                           cookie   2.50\n",
      "1                          brownie   3.50\n",
      "2                    slice of cake   4.75\n",
      "3              slice of cheesecake   4.75\n",
      "4                     slice of pie   5.00\n",
      "0     scoop of chocolate ice cream   3.00\n",
      "1       scoop of vanilla ice cream   2.95\n",
      "2    scoop of strawberry ice cream   3.05\n",
      "3  scoop of cookie dough ice cream   3.25\n"
     ]
    }
   ],
   "source": [
    "menu = pd.concat([bakery, ice_cream])\n",
    "print(menu)"
   ]
  },
  {
   "cell_type": "code",
   "execution_count": 34,
   "metadata": {},
   "outputs": [
    {
     "name": "stdout",
     "output_type": "stream",
     "text": [
      "                              item  price\n",
      "0     scoop of chocolate ice cream   3.00\n",
      "1       scoop of vanilla ice cream   2.95\n",
      "2    scoop of strawberry ice cream   3.05\n",
      "3  scoop of cookie dough ice cream   3.25\n",
      "0                           cookie   2.50\n",
      "1                          brownie   3.50\n",
      "2                    slice of cake   4.75\n",
      "3              slice of cheesecake   4.75\n",
      "4                     slice of pie   5.00\n"
     ]
    }
   ],
   "source": [
    "menu_2 = pd.concat([ice_cream, bakery])\n",
    "print(menu_2)"
   ]
  },
  {
   "cell_type": "code",
   "execution_count": null,
   "metadata": {},
   "outputs": [],
   "source": []
  }
 ],
 "metadata": {
  "kernelspec": {
   "display_name": "Python 3",
   "language": "python",
   "name": "python3"
  },
  "language_info": {
   "codemirror_mode": {
    "name": "ipython",
    "version": 3
   },
   "file_extension": ".py",
   "mimetype": "text/x-python",
   "name": "python",
   "nbconvert_exporter": "python",
   "pygments_lexer": "ipython3",
   "version": "3.7.3"
  }
 },
 "nbformat": 4,
 "nbformat_minor": 2
}
