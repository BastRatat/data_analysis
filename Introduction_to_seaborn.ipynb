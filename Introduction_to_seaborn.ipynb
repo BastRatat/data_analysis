{
 "cells": [
  {
   "cell_type": "markdown",
   "metadata": {},
   "source": [
    "# INTRODUCTION TO SEABORN"
   ]
  },
  {
   "cell_type": "code",
   "execution_count": 14,
   "metadata": {},
   "outputs": [],
   "source": [
    "from matplotlib import pyplot as plt\n",
    "import seaborn as sns\n",
    "import pandas as pd\n",
    "import numpy as np"
   ]
  },
  {
   "cell_type": "markdown",
   "metadata": {},
   "source": [
    "# WHAT IS SEABORN"
   ]
  },
  {
   "cell_type": "raw",
   "metadata": {},
   "source": [
    "Seaborn is a Python data visualization library that provides simple code to create elegant visualizations for statistical exploration and insight. Seaborn is based on Matplotlib, but improves on Matplotlib in several ways:\n",
    "\n",
    "    - Seaborn provides a more visually appealing plotting style and concise syntax.\n",
    "    - Seaborn natively understands Pandas DataFrames, making it easier to plot data directly from CSVs.\n",
    "    - Seaborn can easily summarize Pandas DataFrames with many rows of data into aggregated charts.\n",
    "    \n",
    "The purpose of Seaborn is to provide some important improvements and extra features on top of Matplotlib.\n",
    "\n",
    "One very important and useful improvement is the more visually appealing plots, which is clear when you see how plots appear using both libraries.\n",
    "\n",
    "Another important improvement is the concise syntax that Seaborn provides."
   ]
  },
  {
   "cell_type": "code",
   "execution_count": 4,
   "metadata": {},
   "outputs": [
    {
     "name": "stdout",
     "output_type": "stream",
     "text": [
      "   Patient ID  Gender Age Range  Response\n",
      "0        3951  Female   18 - 25         3\n",
      "1         889    Male   18 - 25         5\n",
      "2        2115  Female   18 - 25         4\n",
      "3        3314  Female   18 - 25         2\n",
      "4        5407    Male   18 - 25         6\n",
      "5        2107    Male   18 - 25         3\n",
      "6        3881    Male   18 - 25         3\n",
      "7        3967    Male   18 - 25         8\n",
      "8        8088  Female   18 - 25         1\n",
      "9        2986    Male   18 - 25         3\n"
     ]
    }
   ],
   "source": [
    "df = pd.read_csv(\"surveys.csv\")\n",
    "print(df.head(10))"
   ]
  },
  {
   "cell_type": "markdown",
   "metadata": {},
   "source": [
    "# PLOTTING BARS WITH SEABORN"
   ]
  },
  {
   "cell_type": "raw",
   "metadata": {},
   "source": [
    "The Seaborn function sns.barplot(), takes at least three keyword arguments:\n",
    "\n",
    "    - data: a Pandas DataFrame that contains the data \n",
    "    - x: a string that tells Seaborn which column in the DataFrame contains otheur x-labels \n",
    "    - y: a string that tells Seaborn which column in the DataFrame contains the heights we want to plot for each bar "
   ]
  },
  {
   "cell_type": "code",
   "execution_count": 13,
   "metadata": {},
   "outputs": [
    {
     "name": "stdout",
     "output_type": "stream",
     "text": [
      "       Gender  Mean Satisfaction\n",
      "0        Male                7.2\n",
      "1      Female                8.1\n",
      "2  Non-binary                6.8\n"
     ]
    },
    {
     "data": {
      "image/png": "[encoded data removed]",
      "text/plain": [
       "<Figure size 432x288 with 1 Axes>"
      ]
     },
     "metadata": {
      "needs_background": "light"
     },
     "output_type": "display_data"
    }
   ],
   "source": [
    "df2 = pd.read_csv(\"results.csv\")\n",
    "print(df2.head(5))\n",
    "sns.barplot(data=df2, \n",
    "            x='Gender', \n",
    "            y='Mean Satisfaction')\n",
    "plt.show()"
   ]
  },
  {
   "cell_type": "markdown",
   "metadata": {},
   "source": [
    "# UNDERSTANDING AGGREGATES "
   ]
  },
  {
   "cell_type": "raw",
   "metadata": {},
   "source": [
    "Seaborn can also calculate aggregate statistics for large datasets. there are many types of aggregate statistics including:\n",
    "    - Mean\n",
    "    - Median\n",
    "    - Mode\n",
    "    - Standard Deviation\n",
    "    \n",
    "In Python, you can compute aggregates fairly quickly and easily using Numpy."
   ]
  },
  {
   "cell_type": "code",
   "execution_count": 18,
   "metadata": {},
   "outputs": [
    {
     "name": "stdout",
     "output_type": "stream",
     "text": [
      "The average mean satisfaction is 7.366666666666667.\n",
      "The median for mean satisfaction is 7.2.\n"
     ]
    }
   ],
   "source": [
    "mean_satisfaction = np.mean(df2['Mean Satisfaction'])\n",
    "print('The average mean satisfaction is {}.'.format(mean_satisfaction))\n",
    "median_satisfaction = np.median(df2['Mean Satisfaction'])\n",
    "print('The median for mean satisfaction is {}.'.format(median_satisfaction))"
   ]
  },
  {
   "cell_type": "code",
   "execution_count": 22,
   "metadata": {},
   "outputs": [
    {
     "name": "stdout",
     "output_type": "stream",
     "text": [
      "  student assignment_name  grade\n",
      "0     Amy    Assignment 1     75\n",
      "1     Amy    Assignment 2     82\n",
      "2     Bob    Assignment 1     99\n",
      "\n",
      "\n"
     ]
    },
    {
     "data": {
      "image/png": "[encoded data removed]",
      "text/plain": [
       "<Figure size 432x288 with 1 Axes>"
      ]
     },
     "metadata": {
      "needs_background": "light"
     },
     "output_type": "display_data"
    }
   ],
   "source": [
    "gradebook = pd.read_csv('gradebooks.csv')\n",
    "print(gradebook.head())\n",
    "print('\\n')\n",
    "sns.barplot(data=gradebook, x='assignment_name', y='grade')\n",
    "plt.show()"
   ]
  },
  {
   "cell_type": "markdown",
   "metadata": {},
   "source": [
    "# MODIFYING ERRORS BARS"
   ]
  },
  {
   "cell_type": "raw",
   "metadata": {},
   "source": [
    "By default, Seaborn uses something called a bootstrapped confidence interval. Roughly speaking, this interval means that “based on this data, 95% of similar situations would have an outcome within this range”. \n",
    "\n",
    "If you’re calculating a mean and would prefer to use standard deviation for your error bars, you can pass in the keyword argument ci=\"sd\" to sns.barplot() which will represent one standard deviation."
   ]
  },
  {
   "cell_type": "code",
   "execution_count": 32,
   "metadata": {},
   "outputs": [
    {
     "name": "stdout",
     "output_type": "stream",
     "text": [
      "    name assignment_name  grade\n",
      "0    Amy    Assignment 1     75\n",
      "1    Amy    Assignment 2     82\n",
      "2    Bob    Assignment 1     99\n",
      "3    Bob    Assignment 2     90\n",
      "4  Chris    Assignment 1     72\n",
      "\n",
      "\n",
      "Mean for assignment 1 : \n",
      "grade    85.0\n",
      "dtype: float64\n"
     ]
    },
    {
     "data": {
      "image/png": "[encoded data removed]",
      "text/plain": [
       "<Figure size 432x288 with 1 Axes>"
      ]
     },
     "metadata": {
      "needs_background": "light"
     },
     "output_type": "display_data"
    }
   ],
   "source": [
    "gradebook2 = pd.read_csv('gradebook.csv')\n",
    "assignment_1 = gradebook2[gradebook2.assignment_name == 'Assignment 1']\n",
    "mean_assignment1 = np.mean(assignment_1)\n",
    "\n",
    "print(gradebook2.head(5))\n",
    "print('\\n')\n",
    "print('Mean for assignment 1 : \\n{}'.format(mean_assignment1))\n",
    "\n",
    "# We pass the argument ci='sd' when plotting\n",
    "sns.barplot(data=gradebook2, x='name', y='grade', ci='sd')\n",
    "plt.show()"
   ]
  },
  {
   "cell_type": "markdown",
   "metadata": {},
   "source": [
    "# CALCULATING MULTIPLE AGGREGATES"
   ]
  },
  {
   "cell_type": "raw",
   "metadata": {},
   "source": [
    "Seaborn is flexible and can calculate any aggregate you want. To do so, you’ll need to use the keyword argument estimator, which accepts any function that works on a list."
   ]
  },
  {
   "cell_type": "code",
   "execution_count": 45,
   "metadata": {},
   "outputs": [
    {
     "name": "stdout",
     "output_type": "stream",
     "text": [
      "    Patient ID  Gender Age Range  Response\n",
      "75        6633  Female       45+         9\n",
      "76        8337    Male       45+         9\n",
      "77        6878  Female       45+         9\n",
      "78        8721  Female       45+         7\n",
      "79        1479  Female       45+        11\n"
     ]
    },
    {
     "data": {
      "image/png": "[encoded data removed]",
      "text/plain": [
       "<Figure size 432x288 with 1 Axes>"
      ]
     },
     "metadata": {
      "needs_background": "light"
     },
     "output_type": "display_data"
    },
    {
     "name": "stdout",
     "output_type": "stream",
     "text": [
      "\n",
      "\n"
     ]
    },
    {
     "data": {
      "image/png": "[encoded data removed]",
      "text/plain": [
       "<Figure size 432x288 with 1 Axes>"
      ]
     },
     "metadata": {
      "needs_background": "light"
     },
     "output_type": "display_data"
    }
   ],
   "source": [
    "survey = pd.read_csv(\"surveys.csv\")\n",
    "print(survey.tail())\n",
    "\n",
    "sns.barplot(data=survey, x='Gender', y='Response', estimator=len)\n",
    "plt.title(\"HOW MANY MEN AND WOMEN ANSWER THE SURVEY?\")\n",
    "plt.show()\n",
    "print('\\n')\n",
    "sns.barplot(data=survey, x='Gender', y='Response', estimator=np.median)\n",
    "plt.title(\"MEDIAN\")\n",
    "plt.show()"
   ]
  },
  {
   "cell_type": "markdown",
   "metadata": {},
   "source": [
    "# AGGREGATING BY MULTIPLE COLUMNS"
   ]
  },
  {
   "cell_type": "raw",
   "metadata": {},
   "source": [
    "We can compare multiple columns at once by using the keyword hue. The hue parameter adds a nested categorical variable to the plot."
   ]
  },
  {
   "cell_type": "code",
   "execution_count": 47,
   "metadata": {},
   "outputs": [
    {
     "name": "stdout",
     "output_type": "stream",
     "text": [
      "   Patient ID  Gender Age Range  Response\n",
      "0        3951  Female   18 - 25         3\n",
      "1         889    Male   18 - 25         5\n",
      "2        2115  Female   18 - 25         4\n",
      "3        3314  Female   18 - 25         2\n",
      "4        5407    Male   18 - 25         6\n"
     ]
    },
    {
     "data": {
      "image/png": "[encoded data removed]",
      "text/plain": [
       "<Figure size 432x288 with 1 Axes>"
      ]
     },
     "metadata": {
      "needs_background": "light"
     },
     "output_type": "display_data"
    }
   ],
   "source": [
    "df3 = pd.read_csv('surveys.csv')\n",
    "print(df3.head())\n",
    "\n",
    "sns.barplot(data=df3, x='Age Range', y='Response', hue='Gender')\n",
    "plt.show()"
   ]
  },
  {
   "cell_type": "markdown",
   "metadata": {},
   "source": [
    "# MORE PLOTS "
   ]
  },
  {
   "cell_type": "raw",
   "metadata": {},
   "source": [
    "In Seaborn, you can implement relational plots such as lineplots or scatterplots, which are used to see relations between two variables.\n",
    "\n",
    "You can also implement categorical plots, such as catplots, boxplots, and barplots, which allow us to see data separated by categories.\n",
    "\n",
    "Seaborn also provides the ability to draw distribution plots, which let us visually see the distribution of some set of data. These includes pairplots, distplots, and kdeplots.\n",
    "\n",
    "Another useful group of plots that Seaborn provides us are regression plots. These are used to analyze whether variables have a relation to each other, and include lmplots and regplots.\n",
    "\n",
    "Seaborn also provides matrix plots, which visualize values using colors on a matrix-like graph, which include heatmaps and clustermaps.\n",
    "\n",
    "To see all the available plots and functionality of Seaborn, check out the documentation!"
   ]
  }
 ],
 "metadata": {
  "kernelspec": {
   "display_name": "Python 3",
   "language": "python",
   "name": "python3"
  },
  "language_info": {
   "codemirror_mode": {
    "name": "ipython",
    "version": 3
   },
   "file_extension": ".py",
   "mimetype": "text/x-python",
   "name": "python",
   "nbconvert_exporter": "python",
   "pygments_lexer": "ipython3",
   "version": "3.7.3"
  }
 },
 "nbformat": 4,
 "nbformat_minor": 2
}
