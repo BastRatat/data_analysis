{
 "cells": [
  {
   "cell_type": "raw",
   "metadata": {},
   "source": [
    "In order to get the HTML of the website, we need to make a request to get the content of the webpage. Python has a requests library that makes getting content really easy."
   ]
  },
  {
   "cell_type": "code",
   "execution_count": 37,
   "metadata": {},
   "outputs": [],
   "source": [
    "import requests\n",
    "from bs4 import BeautifulSoup\n",
    "import re\n",
    "import pandas as pd"
   ]
  },
  {
   "cell_type": "raw",
   "metadata": {},
   "source": [
    "1/ Use the .get() method from the requests library and pass it the website's url.\n",
    "2/ Type the command .content \n",
    "3/ Create a soup object with two attributes : webpage, 'hmtl.parser'"
   ]
  },
  {
   "cell_type": "code",
   "execution_count": 14,
   "metadata": {},
   "outputs": [
    {
     "name": "stdout",
     "output_type": "stream",
     "text": [
      "<!DOCTYPE html>\n",
      "\n",
      "<html>\n",
      "<head>\n",
      "<meta charset=\"utf-8\"/>\n",
      "<title>Turtle Shellter</title>\n",
      "<link href=\"https://fonts.googleapis.com/css?family=Poppins\" rel=\"stylesheet\"/>\n",
      "<link href=\"style.css\" rel=\"stylesheet\" type=\"text/css\"/>\n",
      "</head>\n",
      "<body>\n",
      "<div class=\"banner\">\n",
      "<h1>The Shellter</h1>\n",
      "<span class=\"brag\">The #1 Turtle Adoption website!</span>\n",
      "</div>\n",
      "<div class=\"about\">\n",
      "<p class=\"text\">Click to learn more about each turtle</p>\n",
      "</div>\n",
      "<div class=\"grid\">\n",
      "<div class=\"box adopt\">\n",
      "<a class=\"more-info\" href=\"aesop.html\"><img class=\"headshot\" src=\"aesop.png\"/></a>\n",
      "<p>Aesop</p>\n",
      "</div>\n",
      "<div class=\"box adopt\">\n",
      "<a class=\"more-info\" href=\"caesar.html\"><img class=\"headshot\" src=\"caesar.png\"/></a>\n",
      "<p>Caesar</p>\n",
      "</div>\n",
      "<div class=\"box adopt\">\n",
      "<a class=\"more-info\" href=\"sulla.html\"><img class=\"headshot\" src=\"sulla.png\"/></a>\n",
      "<p>Sulla</p>\n",
      "</div>\n",
      "<div class=\"box adopt\">\n",
      "<a class=\"more-info\" href=\"spyro.html\"><img class=\"headshot\" src=\"spyro.png\"/></a>\n",
      "<p>Spyro</p>\n",
      "</div>\n",
      "<div class=\"box adopt\">\n",
      "<a class=\"more-info\" href=\"zelda.html\"><img class=\"headshot\" src=\"zelda.png\"/></a>\n",
      "<p>Zelda</p>\n",
      "</div>\n",
      "<div class=\"box adopt\">\n",
      "<a class=\"more-info\" href=\"bandicoot.html\"><img class=\"headshot\" src=\"bandicoot.png\"/></a>\n",
      "<p>Bandicoot</p>\n",
      "</div>\n",
      "<div class=\"box adopt\">\n",
      "<a class=\"more-info\" href=\"hal.html\"><img class=\"headshot\" src=\"hal.png\"/></a>\n",
      "<p>Hal</p>\n",
      "</div>\n",
      "<div class=\"box adopt\">\n",
      "<a class=\"more-info\" href=\"mock.html\"><img class=\"headshot\" src=\"mock.png\"/></a>\n",
      "<p>Mock</p>\n",
      "</div>\n",
      "<div class=\"box adopt\">\n",
      "<a class=\"more-info\" href=\"sparrow.html\"><img class=\"headshot\" src=\"sparrow.png\"/></a>\n",
      "<p>Captain Sparrow</p>\n",
      "</div>\n",
      "</div>\n",
      "</body>\n",
      "</html>\n",
      "\n"
     ]
    }
   ],
   "source": [
    "webpage_response = requests.get('https://s3.amazonaws.com/codecademy-content/courses/beautifulsoup/shellter.html')\n",
    "\n",
    "webpage = webpage_response.content\n",
    "\n",
    "soup = BeautifulSoup(webpage, 'html.parser')\n",
    "print(soup)"
   ]
  },
  {
   "cell_type": "raw",
   "metadata": {},
   "source": [
    "BeautifulSoup breaks the HTML page into several types of objects :\n",
    "    - TAGS : accessing a tag from the BeautifulSoup object in this way will get the first tag of that type on the page. You can get the name of the tag using .name and a dictionary representing the attributes of the tag using .attrs\n",
    "    - NAVIGABLE STRINGS are the pieces of text that are in the HTML tags on the page. You can get the string inside of the tag by calling .string    "
   ]
  },
  {
   "cell_type": "raw",
   "metadata": {},
   "source": [
    "TAGS :"
   ]
  },
  {
   "cell_type": "code",
   "execution_count": 16,
   "metadata": {},
   "outputs": [
    {
     "name": "stdout",
     "output_type": "stream",
     "text": [
      "p\n",
      "{'class': ['banner']}\n"
     ]
    }
   ],
   "source": [
    "print(soup.p.name)\n",
    "print(soup.div.attrs)"
   ]
  },
  {
   "cell_type": "raw",
   "metadata": {},
   "source": [
    "NAVIGABLE STRINGS"
   ]
  },
  {
   "cell_type": "code",
   "execution_count": 18,
   "metadata": {},
   "outputs": [
    {
     "name": "stdout",
     "output_type": "stream",
     "text": [
      "Click to learn more about each turtle\n"
     ]
    }
   ],
   "source": [
    "print(soup.p.string)"
   ]
  },
  {
   "cell_type": "raw",
   "metadata": {},
   "source": [
    "To navigate through a tree, we can call the tag names themselves :"
   ]
  },
  {
   "cell_type": "code",
   "execution_count": 19,
   "metadata": {},
   "outputs": [
    {
     "name": "stdout",
     "output_type": "stream",
     "text": [
      "<h1>The Shellter</h1>\n"
     ]
    }
   ],
   "source": [
    "print(soup.h1)"
   ]
  },
  {
   "cell_type": "raw",
   "metadata": {},
   "source": [
    "We can get the children of a tag by accessing the .children attribute:"
   ]
  },
  {
   "cell_type": "code",
   "execution_count": 23,
   "metadata": {},
   "outputs": [
    {
     "name": "stdout",
     "output_type": "stream",
     "text": [
      "\n",
      "\n",
      "<h1>The Shellter</h1>\n",
      "\n",
      "\n",
      "<span class=\"brag\">The #1 Turtle Adoption website!</span>\n",
      "\n",
      "\n"
     ]
    }
   ],
   "source": [
    "for child in soup.div.children:\n",
    "    print(child)"
   ]
  },
  {
   "cell_type": "raw",
   "metadata": {},
   "source": [
    "We can also navigate up the tree of a tag by accessing the .parents attribute. "
   ]
  },
  {
   "cell_type": "code",
   "execution_count": 29,
   "metadata": {},
   "outputs": [],
   "source": [
    "for parent in soup.head.parents:\n",
    "    #print(parent)\n",
    "    pass"
   ]
  },
  {
   "cell_type": "raw",
   "metadata": {},
   "source": [
    "If we want to find all of the occurrences of a tag, instead of just the first one, we can use .find_all().\n",
    ".find_all() returns a list where find() returns a string."
   ]
  },
  {
   "cell_type": "code",
   "execution_count": 34,
   "metadata": {},
   "outputs": [
    {
     "name": "stdout",
     "output_type": "stream",
     "text": [
      "[<p class=\"text\">Click to learn more about each turtle</p>, <p>Aesop</p>, <p>Caesar</p>, <p>Sulla</p>, <p>Spyro</p>, <p>Zelda</p>, <p>Bandicoot</p>, <p>Hal</p>, <p>Mock</p>, <p>Captain Sparrow</p>]\n"
     ]
    }
   ],
   "source": [
    "print(soup.find_all('p'))"
   ]
  },
  {
   "cell_type": "raw",
   "metadata": {},
   "source": [
    "Using regex : "
   ]
  },
  {
   "cell_type": "code",
   "execution_count": 40,
   "metadata": {},
   "outputs": [
    {
     "name": "stdout",
     "output_type": "stream",
     "text": [
      "[]\n"
     ]
    }
   ],
   "source": [
    "print(soup.find_all(re.compile(\"[ou]l\")))\n",
    "# no HTML lists in our example"
   ]
  },
  {
   "cell_type": "raw",
   "metadata": {},
   "source": [
    "Using lists :"
   ]
  },
  {
   "cell_type": "code",
   "execution_count": 46,
   "metadata": {},
   "outputs": [
    {
     "name": "stdout",
     "output_type": "stream",
     "text": [
      "<h1>The Shellter</h1>\n",
      "<p class=\"text\">Click to learn more about each turtle</p>\n",
      "<p>Aesop</p>\n",
      "<p>Caesar</p>\n",
      "<p>Sulla</p>\n",
      "<p>Spyro</p>\n",
      "<p>Zelda</p>\n",
      "<p>Bandicoot</p>\n",
      "<p>Hal</p>\n",
      "<p>Mock</p>\n",
      "<p>Captain Sparrow</p>\n"
     ]
    }
   ],
   "source": [
    "h1_p = soup.find_all(['h1', 'p'])\n",
    "for tag in h1_p:\n",
    "    print(tag)\n"
   ]
  },
  {
   "cell_type": "raw",
   "metadata": {},
   "source": [
    "Using attributes : \n",
    "We can also try to match the elements with relevant attributes. We can pass a dictionary to the attrs parameter of find_all with the desired attributes of the elements we’re looking for. "
   ]
  },
  {
   "cell_type": "code",
   "execution_count": 42,
   "metadata": {},
   "outputs": [
    {
     "name": "stdout",
     "output_type": "stream",
     "text": [
      "[<div class=\"banner\">\n",
      "<h1>The Shellter</h1>\n",
      "<span class=\"brag\">The #1 Turtle Adoption website!</span>\n",
      "</div>]\n"
     ]
    }
   ],
   "source": [
    "print(soup.find_all(attrs={'class': 'banner'}))"
   ]
  },
  {
   "cell_type": "raw",
   "metadata": {},
   "source": [
    "Select for CSS selectors :\n",
    "Another way to capture your desired elements with the soup object is to use CSS selectors. The .select() method will take in all of the CSS selectors you normally use in a .css file.\n",
    "\n",
    "- \".class\" to select the class.\n",
    "- \"#id\" to select the id"
   ]
  },
  {
   "cell_type": "code",
   "execution_count": 44,
   "metadata": {},
   "outputs": [
    {
     "name": "stdout",
     "output_type": "stream",
     "text": [
      "[<div class=\"grid\">\n",
      "<div class=\"box adopt\">\n",
      "<a class=\"more-info\" href=\"aesop.html\"><img class=\"headshot\" src=\"aesop.png\"/></a>\n",
      "<p>Aesop</p>\n",
      "</div>\n",
      "<div class=\"box adopt\">\n",
      "<a class=\"more-info\" href=\"caesar.html\"><img class=\"headshot\" src=\"caesar.png\"/></a>\n",
      "<p>Caesar</p>\n",
      "</div>\n",
      "<div class=\"box adopt\">\n",
      "<a class=\"more-info\" href=\"sulla.html\"><img class=\"headshot\" src=\"sulla.png\"/></a>\n",
      "<p>Sulla</p>\n",
      "</div>\n",
      "<div class=\"box adopt\">\n",
      "<a class=\"more-info\" href=\"spyro.html\"><img class=\"headshot\" src=\"spyro.png\"/></a>\n",
      "<p>Spyro</p>\n",
      "</div>\n",
      "<div class=\"box adopt\">\n",
      "<a class=\"more-info\" href=\"zelda.html\"><img class=\"headshot\" src=\"zelda.png\"/></a>\n",
      "<p>Zelda</p>\n",
      "</div>\n",
      "<div class=\"box adopt\">\n",
      "<a class=\"more-info\" href=\"bandicoot.html\"><img class=\"headshot\" src=\"bandicoot.png\"/></a>\n",
      "<p>Bandicoot</p>\n",
      "</div>\n",
      "<div class=\"box adopt\">\n",
      "<a class=\"more-info\" href=\"hal.html\"><img class=\"headshot\" src=\"hal.png\"/></a>\n",
      "<p>Hal</p>\n",
      "</div>\n",
      "<div class=\"box adopt\">\n",
      "<a class=\"more-info\" href=\"mock.html\"><img class=\"headshot\" src=\"mock.png\"/></a>\n",
      "<p>Mock</p>\n",
      "</div>\n",
      "<div class=\"box adopt\">\n",
      "<a class=\"more-info\" href=\"sparrow.html\"><img class=\"headshot\" src=\"sparrow.png\"/></a>\n",
      "<p>Captain Sparrow</p>\n",
      "</div>\n",
      "</div>]\n"
     ]
    }
   ],
   "source": [
    "print(soup.select(\".grid\"))"
   ]
  },
  {
   "cell_type": "raw",
   "metadata": {},
   "source": [
    "When we use BeautifulSoup to select HTML elements, we often want to grab the text inside of the element, so that we can analyze it. We can use .get_text() to retrieve the text inside of whatever tag we want to call it on. "
   ]
  },
  {
   "cell_type": "code",
   "execution_count": 59,
   "metadata": {},
   "outputs": [
    {
     "name": "stdout",
     "output_type": "stream",
     "text": [
      "Click to learn more about each turtle\n",
      "Aesop\n",
      "Caesar\n",
      "Sulla\n",
      "Spyro\n",
      "Zelda\n",
      "Bandicoot\n",
      "Hal\n",
      "Mock\n",
      "Captain Sparrow\n"
     ]
    }
   ],
   "source": [
    "paragraph = soup.select('p')\n",
    "for element in paragraph:\n",
    "    print(element.get_text())"
   ]
  },
  {
   "cell_type": "code",
   "execution_count": null,
   "metadata": {},
   "outputs": [],
   "source": []
  }
 ],
 "metadata": {
  "kernelspec": {
   "display_name": "Python 3",
   "language": "python",
   "name": "python3"
  },
  "language_info": {
   "codemirror_mode": {
    "name": "ipython",
    "version": 3
   },
   "file_extension": ".py",
   "mimetype": "text/x-python",
   "name": "python",
   "nbconvert_exporter": "python",
   "pygments_lexer": "ipython3",
   "version": "3.7.3"
  }
 },
 "nbformat": 4,
 "nbformat_minor": 2
}
